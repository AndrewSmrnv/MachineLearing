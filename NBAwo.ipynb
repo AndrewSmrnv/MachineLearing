{
 "cells": [
  {
   "cell_type": "markdown",
   "metadata": {},
   "source": [
    "# NBA player of the week\n",
    "\n",
    "Игроки недели с 1984-1985 по 2017-2018 сезон\n"
   ]
  },
  {
   "cell_type": "code",
   "execution_count": 181,
   "metadata": {
    "collapsed": true
   },
   "outputs": [],
   "source": [
    "import numpy as np\n",
    "import matplotlib.pyplot as plt\n",
    "import pandas as pd\n",
    "import re\n",
    "import time\n",
    "import warnings\n",
    "%matplotlib inline"
   ]
  },
  {
   "cell_type": "markdown",
   "metadata": {},
   "source": [
    "### Задача \n",
    "На датасете,используя алгоритмы ML,научиться определять,является ли игрок защитником или нападающим"
   ]
  },
  {
   "cell_type": "code",
   "execution_count": 182,
   "metadata": {
    "collapsed": true
   },
   "outputs": [],
   "source": [
    "# Загрузим датасет\n",
    "# https://www.kaggle.com/jacobbaruch/nba-player-of-the-week\n",
    "\n",
    "dataNBA = pd.read_csv('source/NBA_player_of_the_week.csv', sep = ',', engine = 'python')"
   ]
  },
  {
   "cell_type": "code",
   "execution_count": null,
   "metadata": {
    "collapsed": true
   },
   "outputs": [],
   "source": [
    "# Выкинем менее информативные столбцы и для большей наглядности поменяем некоторые столбцы местами\n",
    "\n",
    "dataNBA = dataNBA.drop([\n",
    "    'Conference',\n",
    "    'Season short',\n",
    "    'Real_value',\n",
    "    'Draft Year'\n",
    "   ], axis=1, errors='ignore')\n",
    "dataNBA = dataNBA[['Player','Age','Height','Weight','Position','Seasons in league','Season','Date','Team']]\n",
    "\n",
    "print(dataNBA.shape) \n",
    "print(dataNBA.columns)\n",
    "dataNBA.head()"
   ]
  },
  {
   "cell_type": "markdown",
   "metadata": {},
   "source": [
    " - `Age` – Возраст\n",
    " - `Data` – Дата,когда выбран лучшим игроком недели\n",
    " - `Draft Year` – Год драфта\n",
    " - `Height` – Рост\n",
    " - `Player` – Имя игрока \n",
    " - `Position` – Позиция на поле\n",
    " - `Season` – Сезон\n",
    " - `Seasons in league` – Сезонов в лиге сыграно\n",
    " - `Team` – Название команды\n",
    " - `Weight` – Вес\n",
    "\t\t\t\t\t"
   ]
  },
  {
   "cell_type": "code",
   "execution_count": null,
   "metadata": {
    "collapsed": true
   },
   "outputs": [],
   "source": [
    "# Глянем картинку с позициями на поле :\n",
    "from IPython.display import Image\n",
    "Image(\"img/positions.jpg\")"
   ]
  },
  {
   "cell_type": "markdown",
   "metadata": {},
   "source": [
    "- PG(1)  - Разыгрывающий защитник (англ.  Point Guard), или первый номер\n",
    "- SG(2)  - Атакующий защитник (англ. Shooting Guard), или второй номер\n",
    "- SF(3)  - Лёгкий форвард (англ. Small Forward), или третий номер\n",
    "- PF(4)  - Тяжёлый форвард (англ. Power Forward), или четвёртый номер\n",
    "- C(5)   - Центровой (англ. Center), или пятый номер\n",
    "\n",
    "Доп обозначения :\n",
    "- G   - PG или  SG\n",
    "- F   - SF или PF\n",
    "- FC  - PF или C"
   ]
  },
  {
   "cell_type": "code",
   "execution_count": 185,
   "metadata": {
    "collapsed": true
   },
   "outputs": [],
   "source": [
    "# Определим некоторые вспомогательные функции,необходимые для приведения веса и роста к нужным единицам измерения\n",
    "\n",
    "def convert_height(height):\n",
    "    if len(re.split('cm',height)) == 1:\n",
    "        height = convert_fais_to_cms(height,'-')\n",
    "    else:\n",
    "        height = height[:3]  # обрезаем подстроку 'cm'\n",
    "    return round(int(height))\n",
    "\n",
    "def convert_fais_to_cms(fai,delimeter): # fai - feet and inches\n",
    "    # константы :\n",
    "    cms_in_one_inch = 2.54\n",
    "    cms_in_one_foot = 30.48 \n",
    "    # перевод :\n",
    "    feet,inches = re.split(delimeter,str(fai),maxsplit=1)  # макс кол-во разбиений = 1\n",
    "    height_in_cms = int(feet) * cms_in_one_foot + int(inches) * cms_in_one_inch;\n",
    "    return height_in_cms\n",
    "\n",
    "def convert_weight(weight):\n",
    "    lb = 0.45359237  # кг в 1-ом фунте \n",
    "    weight = re.split('kg',weight)\n",
    "    if len(weight) == 1:\n",
    "        weight = int(weight[0]) * lb \n",
    "    else:\n",
    "        weight = int(weight[0])\n",
    "    return round(weight)"
   ]
  },
  {
   "cell_type": "code",
   "execution_count": 186,
   "metadata": {
    "collapsed": true
   },
   "outputs": [],
   "source": [
    "# Проёдёмся по датасету и приведём вес к \"кг\",а рост к \"см\"\n",
    "\n",
    "for i in range(dataNBA.shape[0]):\n",
    "    dataNBA.at[i,'Height'] = convert_height(dataNBA.at[i,'Height'])\n",
    "    dataNBA.at[i,'Weight'] = convert_weight(dataNBA.at[i,'Weight'])"
   ]
  },
  {
   "cell_type": "code",
   "execution_count": null,
   "metadata": {
    "collapsed": true
   },
   "outputs": [],
   "source": [
    "# Посмотрим первые строки датасета\n",
    "dataNBA.head()"
   ]
  },
  {
   "cell_type": "code",
   "execution_count": null,
   "metadata": {
    "collapsed": true
   },
   "outputs": [],
   "source": [
    "# Теперь посмотрим сколько уникальных записей,проверяя по имени игрока\n",
    "dataNBA.Player.unique().shape"
   ]
  },
  {
   "cell_type": "code",
   "execution_count": null,
   "metadata": {
    "collapsed": true
   },
   "outputs": [],
   "source": [
    "# Маловато,но что поделать.\n",
    "# Теперь выкинем повторения и сравним \n",
    "dataNBA = dataNBA[~dataNBA.duplicated(subset=['Player'],keep='first')]\n",
    "dataNBA.shape"
   ]
  },
  {
   "cell_type": "code",
   "execution_count": null,
   "metadata": {
    "collapsed": true
   },
   "outputs": [],
   "source": [
    "# Дропнем ненужные для дальнейшей работы колонки и посмотрим на текущее состояние датасета\n",
    "dataNBA = dataNBA.drop([ 'Player',\n",
    "                         'Season',\n",
    "                         'Date'  ], axis=1, errors='ignore')\n",
    "dataN"
   ]
  },
  {
   "cell_type": "code",
   "execution_count": null,
   "metadata": {
    "collapsed": true
   },
   "outputs": [],
   "source": [
    "# Проверим типы столбцов\n",
    "dataNBA.dtypes"
   ]
  },
  {
   "cell_type": "code",
   "execution_count": 192,
   "metadata": {
    "collapsed": true
   },
   "outputs": [],
   "source": [
    "# Приведём вес и рост к int\n",
    "dataNBA['Weight'] = dataNBA.Weight.astype(int)\n",
    "dataNBA['Height'] = dataNBA.Height.astype(int)"
   ]
  },
  {
   "cell_type": "code",
   "execution_count": null,
   "metadata": {
    "collapsed": true
   },
   "outputs": [],
   "source": [
    "# Проверим типы теперь\n",
    "dataNBA.dtypes"
   ]
  },
  {
   "cell_type": "code",
   "execution_count": null,
   "metadata": {
    "collapsed": true
   },
   "outputs": [],
   "source": [
    "dataNBA.describe()"
   ]
  },
  {
   "cell_type": "code",
   "execution_count": null,
   "metadata": {
    "collapsed": true
   },
   "outputs": [],
   "source": [
    "# Нарисуем графики числовых столбцов друг от друга\n",
    "from pandas.plotting import scatter_matrix\n",
    "scatter_matrix(dataNBA, alpha = .05, figsize = (10, 10))\n",
    "pass"
   ]
  },
  {
   "cell_type": "code",
   "execution_count": null,
   "metadata": {
    "collapsed": true
   },
   "outputs": [],
   "source": [
    "# Корреляция столбцов\n",
    "dataNBA.corr()"
   ]
  },
  {
   "cell_type": "code",
   "execution_count": null,
   "metadata": {
    "collapsed": true
   },
   "outputs": [],
   "source": [
    "# Построим график зав-ти кол-ва сезонов в лиге от возраста\n",
    "\n",
    "plt.plot(dataNBA['Age'], dataNBA['Seasons in league'], 'o', alpha = 0.05)\n",
    "plt.xlabel('Age')\n",
    "plt.ylabel('Seasons in league')\n",
    "plt.title('Age vs Seasons in league')\n",
    "pass"
   ]
  },
  {
   "cell_type": "code",
   "execution_count": 198,
   "metadata": {
    "collapsed": true
   },
   "outputs": [],
   "source": [
    "# Ближе к нашей задаче :"
   ]
  },
  {
   "cell_type": "code",
   "execution_count": 199,
   "metadata": {
    "collapsed": true
   },
   "outputs": [],
   "source": [
    "# Условно поделим игроков на защитников и нападающих\n",
    "# Для этого сначала уберём игроков с позицией 'GF' или 'G-F' - это универсалы,которые играют(ли) как в защите,\n",
    "# так и в нападении.\n",
    "\n",
    "dataNBA = dataNBA[(dataNBA.Position != 'GF') & (dataNBA.Position != 'G-F')] "
   ]
  },
  {
   "cell_type": "code",
   "execution_count": null,
   "metadata": {
    "collapsed": true
   },
   "outputs": [],
   "source": [
    "# Теперь все игроков с позициями  'PG','SG','G' \"запишем\" в защитники,\n",
    "# а с позициями 'SF','PF','F','C','FC','F-C' в нападающие\n",
    "# Посмотрим для нападающих и защитников зависимость роста от веса\n",
    "\n",
    "G = dataNBA[(dataNBA['Position'] == 'PG' ) | \n",
    "            (dataNBA['Position'] == 'SG' ) | \n",
    "            (dataNBA['Position'] == 'G'  ) ]\n",
    "\n",
    "F = dataNBA[(dataNBA['Position'] == 'SF' ) |\n",
    "            (dataNBA['Position'] == 'PF' ) |\n",
    "            (dataNBA['Position'] == 'F'  ) | \n",
    "            (dataNBA['Position'] == 'C'  ) |\n",
    "            (dataNBA['Position'] == 'FC' ) |\n",
    "            (dataNBA['Position'] == 'F-C'  )]\n",
    "            \n",
    "plt.figure(figsize = (10, 6)) \n",
    "plt.scatter(G['Weight'],G['Height'],\n",
    "            alpha = 0.25,\n",
    "            label = 'Guards',\n",
    "            color = 'b')\n",
    "\n",
    "plt.scatter(F['Weight'],F['Height'],\n",
    "            alpha = 0.25,\n",
    "            label = 'Forwards',\n",
    "            color = 'r')\n",
    "\n",
    "plt.xlabel('Weight')\n",
    "plt.ylabel('Height')\n",
    "plt.legend()\n",
    "plt.grid()"
   ]
  },
  {
   "cell_type": "code",
   "execution_count": null,
   "metadata": {
    "collapsed": true
   },
   "outputs": [],
   "source": [
    "dataNBA.describe(include = ['object']) # Признаки с типом object "
   ]
  },
  {
   "cell_type": "code",
   "execution_count": null,
   "metadata": {
    "collapsed": true
   },
   "outputs": [],
   "source": [
    "dataNBA.describe(include = 'all') # Все признаки"
   ]
  },
  {
   "cell_type": "code",
   "execution_count": null,
   "metadata": {
    "collapsed": true
   },
   "outputs": [],
   "source": [
    "dataNBA['Team'].unique()  # Уникальные команды"
   ]
  },
  {
   "cell_type": "markdown",
   "metadata": {},
   "source": [
    "# Задача"
   ]
  },
  {
   "cell_type": "code",
   "execution_count": null,
   "metadata": {
    "collapsed": true
   },
   "outputs": [],
   "source": [
    "# Поделим колонки на категориальные и числовые\n",
    "categorical_columns = [c for c in dataNBA.columns if dataNBA[c].dtype.name == 'object'] #\n",
    "numerical_columns   = [c for c in dataNBA.columns if dataNBA[c].dtype.name != 'object']\n",
    "print('категориальные : ',categorical_columns)\n",
    "print('числовые : ',numerical_columns)"
   ]
  },
  {
   "cell_type": "code",
   "execution_count": null,
   "metadata": {
    "collapsed": true
   },
   "outputs": [],
   "source": [
    "for c in categorical_columns:\n",
    "    print(c, dataNBA[c].unique())"
   ]
  },
  {
   "cell_type": "code",
   "execution_count": null,
   "metadata": {
    "collapsed": true
   },
   "outputs": [],
   "source": [
    "# Медианы числовых колонок\n",
    "dataNBA.median(axis = 0)"
   ]
  },
  {
   "cell_type": "code",
   "execution_count": 207,
   "metadata": {
    "collapsed": true
   },
   "outputs": [],
   "source": [
    "# Заполним медианами возможные NA значания\n",
    "dataNBA = dataNBA.fillna(dataNBA.median(axis = 0), axis = 0)"
   ]
  },
  {
   "cell_type": "code",
   "execution_count": null,
   "metadata": {
    "collapsed": true
   },
   "outputs": [],
   "source": [
    "dataNBA[numerical_columns].count(axis=0)"
   ]
  },
  {
   "cell_type": "code",
   "execution_count": null,
   "metadata": {
    "collapsed": true
   },
   "outputs": [],
   "source": [
    "dataNBA[categorical_columns].count(axis = 0)"
   ]
  },
  {
   "cell_type": "code",
   "execution_count": null,
   "metadata": {
    "collapsed": true
   },
   "outputs": [],
   "source": [
    "dataNBA['Position'].unique()"
   ]
  },
  {
   "cell_type": "code",
   "execution_count": null,
   "metadata": {
    "collapsed": true
   },
   "outputs": [],
   "source": [
    "# Сделаем колонку 'Position' бинарной - защитников обозначим за 0,нападающих за 1\n",
    "\n",
    "dataNBA.at[(dataNBA['Position'] == 'PG' ) | \n",
    "           (dataNBA['Position'] == 'SG' ) | \n",
    "           (dataNBA['Position'] == 'G'  ), 'Position'] = 0\n",
    "\n",
    "\n",
    "dataNBA.at[(dataNBA['Position'] == 'SF' ) |\n",
    "           (dataNBA['Position'] == 'PF' ) |\n",
    "           (dataNBA['Position'] == 'F'  ) | \n",
    "           (dataNBA['Position'] == 'C'  ) |\n",
    "           (dataNBA['Position'] == 'FC' ) |\n",
    "           (dataNBA['Position'] == 'F-C'  ),'Position'] = 1\n",
    "dataNBA['Position'].describe()"
   ]
  },
  {
   "cell_type": "markdown",
   "metadata": {},
   "source": [
    "# Векторизация\n",
    "Нужно что-то сделать с категориальными (номинальными) признаками"
   ]
  },
  {
   "cell_type": "code",
   "execution_count": null,
   "metadata": {
    "collapsed": true
   },
   "outputs": [],
   "source": [
    "dataNBA_describe = dataNBA.describe(include =[object])\n",
    "binary_columns = [c for c in categorical_columns if dataNBA_describe[c]['unique']==2]\n",
    "nonbinary_columns = [c for c in categorical_columns if dataNBA_describe[c]['unique']>2]\n",
    "print ('Бинарные- ',binary_columns)\n",
    "print ('Небинарные- ',nonbinary_columns)"
   ]
  },
  {
   "cell_type": "code",
   "execution_count": null,
   "metadata": {
    "collapsed": true
   },
   "outputs": [],
   "source": [
    "dataNBA_nonbinary = pd.get_dummies(dataNBA[nonbinary_columns])\n",
    "print(dataNBA_nonbinary.columns)"
   ]
  },
  {
   "cell_type": "markdown",
   "metadata": {},
   "source": [
    "# Нормализация количественных признаков"
   ]
  },
  {
   "cell_type": "code",
   "execution_count": null,
   "metadata": {
    "collapsed": true
   },
   "outputs": [],
   "source": [
    "dataNBA_numerical = dataNBA[numerical_columns]\n",
    "dataNBA_numerical.describe()"
   ]
  },
  {
   "cell_type": "code",
   "execution_count": 215,
   "metadata": {
    "collapsed": true
   },
   "outputs": [],
   "source": [
    "dataNBA_numerical = (dataNBA_numerical - dataNBA_numerical.mean(axis = 0))/dataNBA_numerical.std(axis = 0)"
   ]
  },
  {
   "cell_type": "code",
   "execution_count": null,
   "metadata": {
    "collapsed": true
   },
   "outputs": [],
   "source": [
    "dataNBA_numerical.describe()"
   ]
  },
  {
   "cell_type": "code",
   "execution_count": null,
   "metadata": {
    "collapsed": true
   },
   "outputs": [],
   "source": [
    "dataNBA = pd.concat((dataNBA_numerical, dataNBA_nonbinary, dataNBA[binary_columns]), axis = 1)\n",
    "dataNBA.describe()"
   ]
  },
  {
   "cell_type": "code",
   "execution_count": 218,
   "metadata": {
    "collapsed": true
   },
   "outputs": [],
   "source": [
    "dataNBA['Position'] = dataNBA.Position.astype(int)"
   ]
  },
  {
   "cell_type": "markdown",
   "metadata": {},
   "source": [
    "# X и y"
   ]
  },
  {
   "cell_type": "code",
   "execution_count": null,
   "metadata": {
    "collapsed": true
   },
   "outputs": [],
   "source": [
    "# Выкинем столбец 'Position'\n",
    "X = dataNBA.drop(('Position'), axis = 1)\n",
    "y = dataNBA['Position']\n",
    "feature_names = X.columns\n",
    "feature_names"
   ]
  },
  {
   "cell_type": "code",
   "execution_count": null,
   "metadata": {
    "collapsed": true
   },
   "outputs": [],
   "source": [
    "print(X.shape)\n",
    "print(y.shape)\n",
    "N, d = X.shape"
   ]
  },
  {
   "cell_type": "code",
   "execution_count": null,
   "metadata": {
    "collapsed": true
   },
   "outputs": [],
   "source": [
    "type(X)"
   ]
  },
  {
   "cell_type": "code",
   "execution_count": null,
   "metadata": {
    "collapsed": true
   },
   "outputs": [],
   "source": [
    "type(y)"
   ]
  },
  {
   "cell_type": "code",
   "execution_count": null,
   "metadata": {
    "collapsed": true
   },
   "outputs": [],
   "source": [
    "from sklearn.model_selection import train_test_split\n",
    "X_train, X_test, y_train, y_test = train_test_split(X, y, test_size = 0.3, random_state = 42)\n",
    "\n",
    "N_train, _ = X_train.shape \n",
    "N_test,  _ = X_test.shape \n",
    "\n",
    "print(N_train, N_test)"
   ]
  },
  {
   "cell_type": "code",
   "execution_count": null,
   "metadata": {
    "collapsed": true
   },
   "outputs": [],
   "source": [
    "181 + 78"
   ]
  },
  {
   "cell_type": "markdown",
   "metadata": {},
   "source": [
    "#  KNN"
   ]
  },
  {
   "cell_type": "code",
   "execution_count": null,
   "metadata": {
    "collapsed": true
   },
   "outputs": [],
   "source": [
    "from sklearn.neighbors import KNeighborsClassifier\n",
    "\n",
    "knn = KNeighborsClassifier(n_neighbors = 10)\n",
    "#knn.set_params(n_neighbors=10)\n",
    "knn.fit(X_train, y_train)"
   ]
  },
  {
   "cell_type": "code",
   "execution_count": null,
   "metadata": {
    "collapsed": true
   },
   "outputs": [],
   "source": [
    "y_train_predict = knn.predict(X_train)\n",
    "y_test_predict = knn.predict(X_test)\n",
    "\n",
    "err_train = np.mean(y_train != y_train_predict)\n",
    "err_test  = np.mean(y_test  != y_test_predict)\n",
    "\n",
    "print(err_train, err_test)"
   ]
  },
  {
   "cell_type": "code",
   "execution_count": null,
   "metadata": {
    "collapsed": true
   },
   "outputs": [],
   "source": [
    "err_test = 1 - knn.score(X_test, y_test)\n",
    "err_test"
   ]
  },
  {
   "cell_type": "code",
   "execution_count": null,
   "metadata": {
    "collapsed": true
   },
   "outputs": [],
   "source": [
    "from sklearn.metrics import confusion_matrix\n",
    "\n",
    "print(confusion_matrix(y_test, y_test_predict))"
   ]
  },
  {
   "cell_type": "code",
   "execution_count": null,
   "metadata": {
    "collapsed": true
   },
   "outputs": [],
   "source": [
    "confusion_matrix([0,1,0,1,0], [0,1,0,0,0])"
   ]
  },
  {
   "cell_type": "markdown",
   "metadata": {},
   "source": [
    "### Подбор оптимального кол-ва соседей для метода"
   ]
  },
  {
   "cell_type": "code",
   "execution_count": null,
   "metadata": {
    "collapsed": true
   },
   "outputs": [],
   "source": [
    "from sklearn.model_selection import GridSearchCV\n",
    "nnb = [1, 3, 5, 10, 15, 20, 25, 35, 45, 55]\n",
    "knn = KNeighborsClassifier()\n",
    "grid = GridSearchCV(knn, param_grid = {'n_neighbors': nnb}, cv=10)\n",
    "grid.fit(X_train, y_train)\n",
    "\n",
    "best_cv_err = 1 - grid.best_score_\n",
    "best_n_neighbors = grid.best_estimator_.n_neighbors\n",
    "print('лучшая ошибка',best_cv_err)\n",
    "print('лучшее кол-во соседей из представленных - ',best_n_neighbors)"
   ]
  },
  {
   "cell_type": "code",
   "execution_count": null,
   "metadata": {
    "collapsed": true
   },
   "outputs": [],
   "source": [
    "knn = KNeighborsClassifier(n_neighbors = best_n_neighbors).fit(X_train, y_train)\n",
    "\n",
    "err_train = np.mean(y_train != knn.predict(X_train))\n",
    "err_test  = np.mean(y_test  != knn.predict(X_test))\n",
    "\n",
    "print(err_train, err_test)"
   ]
  },
  {
   "cell_type": "markdown",
   "metadata": {},
   "source": [
    "Было : 0.153846153846 (при n_neighbors = 10)"
   ]
  },
  {
   "cell_type": "markdown",
   "metadata": {},
   "source": [
    "Стало : 0.0769230769231 (при n_neighbors = 25)"
   ]
  }
 ],
 "metadata": {
  "kernelspec": {
   "display_name": "Python 3",
   "language": "python",
   "name": "python3"
  },
  "language_info": {
   "codemirror_mode": {
    "name": "ipython",
    "version": 3
   },
   "file_extension": ".py",
   "mimetype": "text/x-python",
   "name": "python",
   "nbconvert_exporter": "python",
   "pygments_lexer": "ipython3",
   "version": "3.6.3"
  }
 },
 "nbformat": 4,
 "nbformat_minor": 1
}
