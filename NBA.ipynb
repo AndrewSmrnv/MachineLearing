{
 "cells": [
  {
   "cell_type": "markdown",
   "metadata": {},
   "source": [
    "# NBA player of the week\n",
    "\n",
    "Игроки недели с 1984-1985 по 2017-2018 сезон\n"
   ]
  },
  {
   "cell_type": "code",
   "execution_count": 355,
   "metadata": {
    "collapsed": true
   },
   "outputs": [],
   "source": [
    "import numpy as np\n",
    "import matplotlib.pyplot as plt\n",
    "import pandas as pd\n",
    "import re\n",
    "import time\n",
    "import warnings\n",
    "%matplotlib inline"
   ]
  },
  {
   "cell_type": "markdown",
   "metadata": {},
   "source": [
    "### Задача \n",
    "На датасете,используя алгоритмы ML,научиться определять,является ли игрок защитником или нападающим"
   ]
  },
  {
   "cell_type": "code",
   "execution_count": 356,
   "metadata": {
    "collapsed": true
   },
   "outputs": [],
   "source": [
    "# Загрузим датасет\n",
    "# https://www.kaggle.com/jacobbaruch/nba-player-of-the-week\n",
    "\n",
    "dataNBA = pd.read_csv('data/NBA_player_of_the_week.csv', sep = ',', engine = 'python')"
   ]
  },
  {
   "cell_type": "code",
   "execution_count": 357,
   "metadata": {},
   "outputs": [
    {
     "name": "stdout",
     "output_type": "stream",
     "text": [
      "(1145, 9)\n",
      "Index(['Player', 'Age', 'Height', 'Weight', 'Position', 'Seasons in league',\n",
      "       'Season', 'Date', 'Team'],\n",
      "      dtype='object')\n"
     ]
    },
    {
     "data": {
      "text/html": [
       "<div>\n",
       "<style>\n",
       "    .dataframe thead tr:only-child th {\n",
       "        text-align: right;\n",
       "    }\n",
       "\n",
       "    .dataframe thead th {\n",
       "        text-align: left;\n",
       "    }\n",
       "\n",
       "    .dataframe tbody tr th {\n",
       "        vertical-align: top;\n",
       "    }\n",
       "</style>\n",
       "<table border=\"1\" class=\"dataframe\">\n",
       "  <thead>\n",
       "    <tr style=\"text-align: right;\">\n",
       "      <th></th>\n",
       "      <th>Player</th>\n",
       "      <th>Age</th>\n",
       "      <th>Height</th>\n",
       "      <th>Weight</th>\n",
       "      <th>Position</th>\n",
       "      <th>Seasons in league</th>\n",
       "      <th>Season</th>\n",
       "      <th>Date</th>\n",
       "      <th>Team</th>\n",
       "    </tr>\n",
       "  </thead>\n",
       "  <tbody>\n",
       "    <tr>\n",
       "      <th>0</th>\n",
       "      <td>Micheal Ray Richardson</td>\n",
       "      <td>29</td>\n",
       "      <td>6-5</td>\n",
       "      <td>189</td>\n",
       "      <td>PG</td>\n",
       "      <td>6</td>\n",
       "      <td>1984-1985</td>\n",
       "      <td>Apr 14, 1985</td>\n",
       "      <td>New Jersey Nets</td>\n",
       "    </tr>\n",
       "    <tr>\n",
       "      <th>1</th>\n",
       "      <td>Derek Smith</td>\n",
       "      <td>23</td>\n",
       "      <td>6-6</td>\n",
       "      <td>205</td>\n",
       "      <td>SG</td>\n",
       "      <td>2</td>\n",
       "      <td>1984-1985</td>\n",
       "      <td>Apr 7, 1985</td>\n",
       "      <td>Los Angeles Clippers</td>\n",
       "    </tr>\n",
       "    <tr>\n",
       "      <th>2</th>\n",
       "      <td>Calvin Natt</td>\n",
       "      <td>28</td>\n",
       "      <td>6-6</td>\n",
       "      <td>220</td>\n",
       "      <td>F</td>\n",
       "      <td>5</td>\n",
       "      <td>1984-1985</td>\n",
       "      <td>Apr 1, 1985</td>\n",
       "      <td>Denver Nuggets</td>\n",
       "    </tr>\n",
       "    <tr>\n",
       "      <th>3</th>\n",
       "      <td>Kareem Abdul-Jabbar</td>\n",
       "      <td>37</td>\n",
       "      <td>7-2</td>\n",
       "      <td>225</td>\n",
       "      <td>C</td>\n",
       "      <td>15</td>\n",
       "      <td>1984-1985</td>\n",
       "      <td>Mar 24, 1985</td>\n",
       "      <td>Los Angeles Lakers</td>\n",
       "    </tr>\n",
       "    <tr>\n",
       "      <th>4</th>\n",
       "      <td>Larry Bird</td>\n",
       "      <td>28</td>\n",
       "      <td>6-9</td>\n",
       "      <td>220</td>\n",
       "      <td>SF</td>\n",
       "      <td>5</td>\n",
       "      <td>1984-1985</td>\n",
       "      <td>Mar 17, 1985</td>\n",
       "      <td>Boston Celtics</td>\n",
       "    </tr>\n",
       "  </tbody>\n",
       "</table>\n",
       "</div>"
      ],
      "text/plain": [
       "                   Player  Age Height Weight Position  Seasons in league  \\\n",
       "0  Micheal Ray Richardson   29    6-5    189       PG                  6   \n",
       "1             Derek Smith   23    6-6    205       SG                  2   \n",
       "2             Calvin Natt   28    6-6    220        F                  5   \n",
       "3     Kareem Abdul-Jabbar   37    7-2    225        C                 15   \n",
       "4              Larry Bird   28    6-9    220       SF                  5   \n",
       "\n",
       "      Season          Date                  Team  \n",
       "0  1984-1985  Apr 14, 1985       New Jersey Nets  \n",
       "1  1984-1985   Apr 7, 1985  Los Angeles Clippers  \n",
       "2  1984-1985   Apr 1, 1985        Denver Nuggets  \n",
       "3  1984-1985  Mar 24, 1985    Los Angeles Lakers  \n",
       "4  1984-1985  Mar 17, 1985        Boston Celtics  "
      ]
     },
     "execution_count": 357,
     "metadata": {},
     "output_type": "execute_result"
    }
   ],
   "source": [
    "# Выкинем менее информативные столбцы и для большей наглядности поменяем некоторые столбцы местами\n",
    "\n",
    "dataNBA = dataNBA.drop([\n",
    "    'Conference',\n",
    "    'Season short',\n",
    "    'Real_value',\n",
    "    'Draft Year'\n",
    "   ], axis=1, errors='ignore')\n",
    "dataNBA = dataNBA[['Player','Age','Height','Weight','Position','Seasons in league','Season','Date','Team']]\n",
    "\n",
    "print(dataNBA.shape) \n",
    "print(dataNBA.columns)\n",
    "dataNBA.head()"
   ]
  },
  {
   "cell_type": "markdown",
   "metadata": {},
   "source": [
    " - `Age` – Возраст\n",
    " - `Data` – Дата,когда выбран лучшим игроком недели\n",
    " - `Draft Year` – Год драфта\n",
    " - `Height` – Рост\n",
    " - `Player` – Имя игрока \n",
    " - `Position` – Позиция на поле\n",
    " - `Season` – Сезон\n",
    " - `Seasons in league` – Сезонов в лиге сыграно\n",
    " - `Team` – Название команды\n",
    " - `Weight` – Вес\n",
    "\t\t\t\t\t"
   ]
  },
  {
   "cell_type": "code",
   "execution_count": 358,
   "metadata": {},
   "outputs": [
    {
     "data": {
      "image/jpeg": "[encoded data removed]",
      "text/plain": [
       "<IPython.core.display.Image object>"
      ]
     },
     "execution_count": 358,
     "metadata": {},
     "output_type": "execute_result"
    }
   ],
   "source": [
    "# Глянем картинку с позициями на поле :\n",
    "from IPython.display import Image\n",
    "Image(\"img/positions.jpg\")"
   ]
  },
  {
   "cell_type": "markdown",
   "metadata": {},
   "source": [
    "- PG(1)  - Разыгрывающий защитник (англ.  Point Guard), или первый номер\n",
    "- SG(2)  - Атакующий защитник (англ. Shooting Guard), или второй номер\n",
    "- SF(3)  - Лёгкий форвард (англ. Small Forward), или третий номер\n",
    "- PF(4)  - Тяжёлый форвард (англ. Power Forward), или четвёртый номер\n",
    "- C(5)   - Центровой (англ. Center), или пятый номер\n",
    "\n",
    "Доп обозначения :\n",
    "- G   - PG или  SG\n",
    "- F   - SF или PF\n",
    "- FC  - PF или C"
   ]
  },
  {
   "cell_type": "code",
   "execution_count": 359,
   "metadata": {
    "collapsed": true
   },
   "outputs": [],
   "source": [
    "# Определим некоторые вспомогательные функции,необходимые для приведения веса и роста к нужным единицам измерения\n",
    "\n",
    "def convert_height(height):\n",
    "    if len(re.split('cm',height)) == 1:\n",
    "        height = convert_fais_to_cms(height,'-')\n",
    "    else:\n",
    "        height = height[:3]  # обрезаем подстроку 'cm'\n",
    "    return round(int(height))\n",
    "\n",
    "def convert_fais_to_cms(fai,delimeter): # fai - feet and inches\n",
    "    # константы :\n",
    "    cms_in_one_inch = 2.54\n",
    "    cms_in_one_foot = 30.48 \n",
    "    # перевод :\n",
    "    feet,inches = re.split(delimeter,str(fai),maxsplit=1)  # макс кол-во разбиений = 1\n",
    "    height_in_cms = int(feet) * cms_in_one_foot + int(inches) * cms_in_one_inch;\n",
    "    return height_in_cms\n",
    "\n",
    "def convert_weight(weight):\n",
    "    lb = 0.45359237  # кг в 1-ом фунте \n",
    "    weight = re.split('kg',weight)\n",
    "    if len(weight) == 1:\n",
    "        weight = int(weight[0]) * lb \n",
    "    else:\n",
    "        weight = int(weight[0])\n",
    "    return round(weight)"
   ]
  },
  {
   "cell_type": "code",
   "execution_count": 360,
   "metadata": {
    "collapsed": true
   },
   "outputs": [],
   "source": [
    "# Проёдёмся по датасету и приведём вес к \"кг\",а рост к \"см\"\n",
    "\n",
    "for i in range(dataNBA.shape[0]):\n",
    "    dataNBA.at[i,'Height'] = convert_height(dataNBA.at[i,'Height'])\n",
    "    dataNBA.at[i,'Weight'] = convert_weight(dataNBA.at[i,'Weight'])"
   ]
  },
  {
   "cell_type": "code",
   "execution_count": 361,
   "metadata": {},
   "outputs": [
    {
     "data": {
      "text/html": [
       "<div>\n",
       "<style>\n",
       "    .dataframe thead tr:only-child th {\n",
       "        text-align: right;\n",
       "    }\n",
       "\n",
       "    .dataframe thead th {\n",
       "        text-align: left;\n",
       "    }\n",
       "\n",
       "    .dataframe tbody tr th {\n",
       "        vertical-align: top;\n",
       "    }\n",
       "</style>\n",
       "<table border=\"1\" class=\"dataframe\">\n",
       "  <thead>\n",
       "    <tr style=\"text-align: right;\">\n",
       "      <th></th>\n",
       "      <th>Player</th>\n",
       "      <th>Age</th>\n",
       "      <th>Height</th>\n",
       "      <th>Weight</th>\n",
       "      <th>Position</th>\n",
       "      <th>Seasons in league</th>\n",
       "      <th>Season</th>\n",
       "      <th>Date</th>\n",
       "      <th>Team</th>\n",
       "    </tr>\n",
       "  </thead>\n",
       "  <tbody>\n",
       "    <tr>\n",
       "      <th>0</th>\n",
       "      <td>Micheal Ray Richardson</td>\n",
       "      <td>29</td>\n",
       "      <td>195</td>\n",
       "      <td>86</td>\n",
       "      <td>PG</td>\n",
       "      <td>6</td>\n",
       "      <td>1984-1985</td>\n",
       "      <td>Apr 14, 1985</td>\n",
       "      <td>New Jersey Nets</td>\n",
       "    </tr>\n",
       "    <tr>\n",
       "      <th>1</th>\n",
       "      <td>Derek Smith</td>\n",
       "      <td>23</td>\n",
       "      <td>198</td>\n",
       "      <td>93</td>\n",
       "      <td>SG</td>\n",
       "      <td>2</td>\n",
       "      <td>1984-1985</td>\n",
       "      <td>Apr 7, 1985</td>\n",
       "      <td>Los Angeles Clippers</td>\n",
       "    </tr>\n",
       "    <tr>\n",
       "      <th>2</th>\n",
       "      <td>Calvin Natt</td>\n",
       "      <td>28</td>\n",
       "      <td>198</td>\n",
       "      <td>100</td>\n",
       "      <td>F</td>\n",
       "      <td>5</td>\n",
       "      <td>1984-1985</td>\n",
       "      <td>Apr 1, 1985</td>\n",
       "      <td>Denver Nuggets</td>\n",
       "    </tr>\n",
       "    <tr>\n",
       "      <th>3</th>\n",
       "      <td>Kareem Abdul-Jabbar</td>\n",
       "      <td>37</td>\n",
       "      <td>218</td>\n",
       "      <td>102</td>\n",
       "      <td>C</td>\n",
       "      <td>15</td>\n",
       "      <td>1984-1985</td>\n",
       "      <td>Mar 24, 1985</td>\n",
       "      <td>Los Angeles Lakers</td>\n",
       "    </tr>\n",
       "    <tr>\n",
       "      <th>4</th>\n",
       "      <td>Larry Bird</td>\n",
       "      <td>28</td>\n",
       "      <td>205</td>\n",
       "      <td>100</td>\n",
       "      <td>SF</td>\n",
       "      <td>5</td>\n",
       "      <td>1984-1985</td>\n",
       "      <td>Mar 17, 1985</td>\n",
       "      <td>Boston Celtics</td>\n",
       "    </tr>\n",
       "  </tbody>\n",
       "</table>\n",
       "</div>"
      ],
      "text/plain": [
       "                   Player  Age Height Weight Position  Seasons in league  \\\n",
       "0  Micheal Ray Richardson   29    195     86       PG                  6   \n",
       "1             Derek Smith   23    198     93       SG                  2   \n",
       "2             Calvin Natt   28    198    100        F                  5   \n",
       "3     Kareem Abdul-Jabbar   37    218    102        C                 15   \n",
       "4              Larry Bird   28    205    100       SF                  5   \n",
       "\n",
       "      Season          Date                  Team  \n",
       "0  1984-1985  Apr 14, 1985       New Jersey Nets  \n",
       "1  1984-1985   Apr 7, 1985  Los Angeles Clippers  \n",
       "2  1984-1985   Apr 1, 1985        Denver Nuggets  \n",
       "3  1984-1985  Mar 24, 1985    Los Angeles Lakers  \n",
       "4  1984-1985  Mar 17, 1985        Boston Celtics  "
      ]
     },
     "execution_count": 361,
     "metadata": {},
     "output_type": "execute_result"
    }
   ],
   "source": [
    "# Посмотрим первые строки датасета\n",
    "dataNBA.head()"
   ]
  },
  {
   "cell_type": "code",
   "execution_count": 362,
   "metadata": {},
   "outputs": [
    {
     "data": {
      "text/plain": [
       "(274,)"
      ]
     },
     "execution_count": 362,
     "metadata": {},
     "output_type": "execute_result"
    }
   ],
   "source": [
    "# Теперь посмотрим сколько уникальных записей,проверяя по имени игрока\n",
    "dataNBA.Player.unique().shape"
   ]
  },
  {
   "cell_type": "code",
   "execution_count": 363,
   "metadata": {},
   "outputs": [
    {
     "data": {
      "text/plain": [
       "(274, 9)"
      ]
     },
     "execution_count": 363,
     "metadata": {},
     "output_type": "execute_result"
    }
   ],
   "source": [
    "# Маловато,но что поделать.\n",
    "# Теперь выкинем повторения и сравним \n",
    "dataNBA = dataNBA[~dataNBA.duplicated(subset=['Player'],keep='first')]\n",
    "dataNBA.shape"
   ]
  },
  {
   "cell_type": "code",
   "execution_count": 364,
   "metadata": {},
   "outputs": [
    {
     "data": {
      "text/html": [
       "<div>\n",
       "<style>\n",
       "    .dataframe thead tr:only-child th {\n",
       "        text-align: right;\n",
       "    }\n",
       "\n",
       "    .dataframe thead th {\n",
       "        text-align: left;\n",
       "    }\n",
       "\n",
       "    .dataframe tbody tr th {\n",
       "        vertical-align: top;\n",
       "    }\n",
       "</style>\n",
       "<table border=\"1\" class=\"dataframe\">\n",
       "  <thead>\n",
       "    <tr style=\"text-align: right;\">\n",
       "      <th></th>\n",
       "      <th>Age</th>\n",
       "      <th>Height</th>\n",
       "      <th>Weight</th>\n",
       "      <th>Position</th>\n",
       "      <th>Seasons in league</th>\n",
       "      <th>Team</th>\n",
       "    </tr>\n",
       "  </thead>\n",
       "  <tbody>\n",
       "    <tr>\n",
       "      <th>0</th>\n",
       "      <td>29</td>\n",
       "      <td>195</td>\n",
       "      <td>86</td>\n",
       "      <td>PG</td>\n",
       "      <td>6</td>\n",
       "      <td>New Jersey Nets</td>\n",
       "    </tr>\n",
       "    <tr>\n",
       "      <th>1</th>\n",
       "      <td>23</td>\n",
       "      <td>198</td>\n",
       "      <td>93</td>\n",
       "      <td>SG</td>\n",
       "      <td>2</td>\n",
       "      <td>Los Angeles Clippers</td>\n",
       "    </tr>\n",
       "    <tr>\n",
       "      <th>2</th>\n",
       "      <td>28</td>\n",
       "      <td>198</td>\n",
       "      <td>100</td>\n",
       "      <td>F</td>\n",
       "      <td>5</td>\n",
       "      <td>Denver Nuggets</td>\n",
       "    </tr>\n",
       "    <tr>\n",
       "      <th>3</th>\n",
       "      <td>37</td>\n",
       "      <td>218</td>\n",
       "      <td>102</td>\n",
       "      <td>C</td>\n",
       "      <td>15</td>\n",
       "      <td>Los Angeles Lakers</td>\n",
       "    </tr>\n",
       "    <tr>\n",
       "      <th>4</th>\n",
       "      <td>28</td>\n",
       "      <td>205</td>\n",
       "      <td>100</td>\n",
       "      <td>SF</td>\n",
       "      <td>5</td>\n",
       "      <td>Boston Celtics</td>\n",
       "    </tr>\n",
       "    <tr>\n",
       "      <th>5</th>\n",
       "      <td>26</td>\n",
       "      <td>193</td>\n",
       "      <td>86</td>\n",
       "      <td>SG</td>\n",
       "      <td>4</td>\n",
       "      <td>Utah Jazz</td>\n",
       "    </tr>\n",
       "    <tr>\n",
       "      <th>6</th>\n",
       "      <td>24</td>\n",
       "      <td>190</td>\n",
       "      <td>77</td>\n",
       "      <td>PG</td>\n",
       "      <td>2</td>\n",
       "      <td>Golden State Warriors</td>\n",
       "    </tr>\n",
       "    <tr>\n",
       "      <th>7</th>\n",
       "      <td>25</td>\n",
       "      <td>198</td>\n",
       "      <td>105</td>\n",
       "      <td>SF</td>\n",
       "      <td>3</td>\n",
       "      <td>Dallas Mavericks</td>\n",
       "    </tr>\n",
       "    <tr>\n",
       "      <th>8</th>\n",
       "      <td>25</td>\n",
       "      <td>205</td>\n",
       "      <td>116</td>\n",
       "      <td>PG</td>\n",
       "      <td>5</td>\n",
       "      <td>Los Angeles Lakers</td>\n",
       "    </tr>\n",
       "    <tr>\n",
       "      <th>9</th>\n",
       "      <td>25</td>\n",
       "      <td>200</td>\n",
       "      <td>91</td>\n",
       "      <td>SF</td>\n",
       "      <td>2</td>\n",
       "      <td>Atlanta Hawks</td>\n",
       "    </tr>\n",
       "    <tr>\n",
       "      <th>10</th>\n",
       "      <td>32</td>\n",
       "      <td>210</td>\n",
       "      <td>98</td>\n",
       "      <td>PF</td>\n",
       "      <td>9</td>\n",
       "      <td>Washington Bullets</td>\n",
       "    </tr>\n",
       "    <tr>\n",
       "      <th>11</th>\n",
       "      <td>22</td>\n",
       "      <td>198</td>\n",
       "      <td>98</td>\n",
       "      <td>SG</td>\n",
       "      <td>0</td>\n",
       "      <td>Chicago Bulls</td>\n",
       "    </tr>\n",
       "    <tr>\n",
       "      <th>12</th>\n",
       "      <td>31</td>\n",
       "      <td>187</td>\n",
       "      <td>84</td>\n",
       "      <td>G</td>\n",
       "      <td>9</td>\n",
       "      <td>Cleveland Cavaliers</td>\n",
       "    </tr>\n",
       "    <tr>\n",
       "      <th>13</th>\n",
       "      <td>23</td>\n",
       "      <td>185</td>\n",
       "      <td>82</td>\n",
       "      <td>PG</td>\n",
       "      <td>3</td>\n",
       "      <td>Detroit Pistons</td>\n",
       "    </tr>\n",
       "    <tr>\n",
       "      <th>15</th>\n",
       "      <td>23</td>\n",
       "      <td>205</td>\n",
       "      <td>100</td>\n",
       "      <td>PF</td>\n",
       "      <td>2</td>\n",
       "      <td>Milwaukee Bucks</td>\n",
       "    </tr>\n",
       "    <tr>\n",
       "      <th>17</th>\n",
       "      <td>25</td>\n",
       "      <td>205</td>\n",
       "      <td>98</td>\n",
       "      <td>PF</td>\n",
       "      <td>3</td>\n",
       "      <td>Chicago Bulls</td>\n",
       "    </tr>\n",
       "    <tr>\n",
       "      <th>18</th>\n",
       "      <td>29</td>\n",
       "      <td>210</td>\n",
       "      <td>104</td>\n",
       "      <td>C</td>\n",
       "      <td>7</td>\n",
       "      <td>Seattle SuperSonics</td>\n",
       "    </tr>\n",
       "    <tr>\n",
       "      <th>19</th>\n",
       "      <td>28</td>\n",
       "      <td>200</td>\n",
       "      <td>93</td>\n",
       "      <td>SF</td>\n",
       "      <td>7</td>\n",
       "      <td>New York Knicks</td>\n",
       "    </tr>\n",
       "    <tr>\n",
       "      <th>20</th>\n",
       "      <td>29</td>\n",
       "      <td>208</td>\n",
       "      <td>98</td>\n",
       "      <td>C</td>\n",
       "      <td>8</td>\n",
       "      <td>Philadelphia Sixers</td>\n",
       "    </tr>\n",
       "    <tr>\n",
       "      <th>21</th>\n",
       "      <td>31</td>\n",
       "      <td>200</td>\n",
       "      <td>86</td>\n",
       "      <td>SF</td>\n",
       "      <td>8</td>\n",
       "      <td>Denver Nuggets</td>\n",
       "    </tr>\n",
       "    <tr>\n",
       "      <th>22</th>\n",
       "      <td>26</td>\n",
       "      <td>208</td>\n",
       "      <td>93</td>\n",
       "      <td>PF</td>\n",
       "      <td>3</td>\n",
       "      <td>Phoenix Suns</td>\n",
       "    </tr>\n",
       "    <tr>\n",
       "      <th>24</th>\n",
       "      <td>28</td>\n",
       "      <td>208</td>\n",
       "      <td>110</td>\n",
       "      <td>C</td>\n",
       "      <td>4</td>\n",
       "      <td>Indiana Pacers</td>\n",
       "    </tr>\n",
       "    <tr>\n",
       "      <th>25</th>\n",
       "      <td>23</td>\n",
       "      <td>198</td>\n",
       "      <td>114</td>\n",
       "      <td>PF</td>\n",
       "      <td>1</td>\n",
       "      <td>Philadelphia Sixers</td>\n",
       "    </tr>\n",
       "    <tr>\n",
       "      <th>26</th>\n",
       "      <td>30</td>\n",
       "      <td>195</td>\n",
       "      <td>94</td>\n",
       "      <td>SF</td>\n",
       "      <td>9</td>\n",
       "      <td>Utah Jazz</td>\n",
       "    </tr>\n",
       "    <tr>\n",
       "      <th>30</th>\n",
       "      <td>28</td>\n",
       "      <td>190</td>\n",
       "      <td>82</td>\n",
       "      <td>SG</td>\n",
       "      <td>6</td>\n",
       "      <td>Milwaukee Bucks</td>\n",
       "    </tr>\n",
       "    <tr>\n",
       "      <th>36</th>\n",
       "      <td>23</td>\n",
       "      <td>200</td>\n",
       "      <td>95</td>\n",
       "      <td>SG</td>\n",
       "      <td>2</td>\n",
       "      <td>Portland Trail Blazers</td>\n",
       "    </tr>\n",
       "    <tr>\n",
       "      <th>39</th>\n",
       "      <td>23</td>\n",
       "      <td>190</td>\n",
       "      <td>84</td>\n",
       "      <td>SG</td>\n",
       "      <td>1</td>\n",
       "      <td>San Antonio Spurs</td>\n",
       "    </tr>\n",
       "    <tr>\n",
       "      <th>40</th>\n",
       "      <td>27</td>\n",
       "      <td>208</td>\n",
       "      <td>109</td>\n",
       "      <td>C</td>\n",
       "      <td>4</td>\n",
       "      <td>Washington Bullets</td>\n",
       "    </tr>\n",
       "    <tr>\n",
       "      <th>43</th>\n",
       "      <td>23</td>\n",
       "      <td>213</td>\n",
       "      <td>109</td>\n",
       "      <td>C</td>\n",
       "      <td>0</td>\n",
       "      <td>New York Knicks</td>\n",
       "    </tr>\n",
       "    <tr>\n",
       "      <th>44</th>\n",
       "      <td>25</td>\n",
       "      <td>203</td>\n",
       "      <td>98</td>\n",
       "      <td>PF</td>\n",
       "      <td>4</td>\n",
       "      <td>New Jersey Nets</td>\n",
       "    </tr>\n",
       "    <tr>\n",
       "      <th>...</th>\n",
       "      <td>...</td>\n",
       "      <td>...</td>\n",
       "      <td>...</td>\n",
       "      <td>...</td>\n",
       "      <td>...</td>\n",
       "      <td>...</td>\n",
       "    </tr>\n",
       "    <tr>\n",
       "      <th>967</th>\n",
       "      <td>26</td>\n",
       "      <td>175</td>\n",
       "      <td>84</td>\n",
       "      <td>PG</td>\n",
       "      <td>3</td>\n",
       "      <td>Boston Celtics</td>\n",
       "    </tr>\n",
       "    <tr>\n",
       "      <th>969</th>\n",
       "      <td>26</td>\n",
       "      <td>213</td>\n",
       "      <td>122</td>\n",
       "      <td>C</td>\n",
       "      <td>6</td>\n",
       "      <td>Brooklyn Nets</td>\n",
       "    </tr>\n",
       "    <tr>\n",
       "      <th>972</th>\n",
       "      <td>26</td>\n",
       "      <td>190</td>\n",
       "      <td>86</td>\n",
       "      <td>G</td>\n",
       "      <td>5</td>\n",
       "      <td>Golden State Warriors</td>\n",
       "    </tr>\n",
       "    <tr>\n",
       "      <th>976</th>\n",
       "      <td>21</td>\n",
       "      <td>208</td>\n",
       "      <td>115</td>\n",
       "      <td>PF</td>\n",
       "      <td>2</td>\n",
       "      <td>New Orleans Pelicans</td>\n",
       "    </tr>\n",
       "    <tr>\n",
       "      <th>980</th>\n",
       "      <td>24</td>\n",
       "      <td>190</td>\n",
       "      <td>88</td>\n",
       "      <td>G</td>\n",
       "      <td>2</td>\n",
       "      <td>Portland Trail Blazers</td>\n",
       "    </tr>\n",
       "    <tr>\n",
       "      <th>981</th>\n",
       "      <td>20</td>\n",
       "      <td>210</td>\n",
       "      <td>101</td>\n",
       "      <td>F</td>\n",
       "      <td>1</td>\n",
       "      <td>Milwaukee Bucks</td>\n",
       "    </tr>\n",
       "    <tr>\n",
       "      <th>986</th>\n",
       "      <td>25</td>\n",
       "      <td>200</td>\n",
       "      <td>98</td>\n",
       "      <td>G</td>\n",
       "      <td>3</td>\n",
       "      <td>Golden State Warriors</td>\n",
       "    </tr>\n",
       "    <tr>\n",
       "      <th>993</th>\n",
       "      <td>25</td>\n",
       "      <td>200</td>\n",
       "      <td>105</td>\n",
       "      <td>GF</td>\n",
       "      <td>3</td>\n",
       "      <td>Chicago Bulls</td>\n",
       "    </tr>\n",
       "    <tr>\n",
       "      <th>1003</th>\n",
       "      <td>28</td>\n",
       "      <td>185</td>\n",
       "      <td>79</td>\n",
       "      <td>G</td>\n",
       "      <td>9</td>\n",
       "      <td>Toronto Raptors</td>\n",
       "    </tr>\n",
       "    <tr>\n",
       "      <th>1012</th>\n",
       "      <td>20</td>\n",
       "      <td>213</td>\n",
       "      <td>111</td>\n",
       "      <td>C</td>\n",
       "      <td>0</td>\n",
       "      <td>Minnesota Timberwolves</td>\n",
       "    </tr>\n",
       "    <tr>\n",
       "      <th>1014</th>\n",
       "      <td>31</td>\n",
       "      <td>182</td>\n",
       "      <td>84</td>\n",
       "      <td>G</td>\n",
       "      <td>9</td>\n",
       "      <td>Dallas Mavericks</td>\n",
       "    </tr>\n",
       "    <tr>\n",
       "      <th>1022</th>\n",
       "      <td>24</td>\n",
       "      <td>200</td>\n",
       "      <td>104</td>\n",
       "      <td>F</td>\n",
       "      <td>4</td>\n",
       "      <td>San Antonio Spurs</td>\n",
       "    </tr>\n",
       "    <tr>\n",
       "      <th>1036</th>\n",
       "      <td>25</td>\n",
       "      <td>200</td>\n",
       "      <td>104</td>\n",
       "      <td>F</td>\n",
       "      <td>3</td>\n",
       "      <td>Golden State Warriors</td>\n",
       "    </tr>\n",
       "    <tr>\n",
       "      <th>1037</th>\n",
       "      <td>32</td>\n",
       "      <td>210</td>\n",
       "      <td>109</td>\n",
       "      <td>FC</td>\n",
       "      <td>8</td>\n",
       "      <td>Washington Wizards</td>\n",
       "    </tr>\n",
       "    <tr>\n",
       "      <th>1039</th>\n",
       "      <td>25</td>\n",
       "      <td>190</td>\n",
       "      <td>94</td>\n",
       "      <td>G</td>\n",
       "      <td>4</td>\n",
       "      <td>Detroit Pistons</td>\n",
       "    </tr>\n",
       "    <tr>\n",
       "      <th>1041</th>\n",
       "      <td>26</td>\n",
       "      <td>200</td>\n",
       "      <td>100</td>\n",
       "      <td>GF</td>\n",
       "      <td>6</td>\n",
       "      <td>Toronto Raptors</td>\n",
       "    </tr>\n",
       "    <tr>\n",
       "      <th>1049</th>\n",
       "      <td>27</td>\n",
       "      <td>203</td>\n",
       "      <td>91</td>\n",
       "      <td>F</td>\n",
       "      <td>7</td>\n",
       "      <td>Charlotte Hornets</td>\n",
       "    </tr>\n",
       "    <tr>\n",
       "      <th>1051</th>\n",
       "      <td>22</td>\n",
       "      <td>210</td>\n",
       "      <td>127</td>\n",
       "      <td>C</td>\n",
       "      <td>3</td>\n",
       "      <td>Detroit Pistons</td>\n",
       "    </tr>\n",
       "    <tr>\n",
       "      <th>1061</th>\n",
       "      <td>27</td>\n",
       "      <td>213</td>\n",
       "      <td>120</td>\n",
       "      <td>C</td>\n",
       "      <td>4</td>\n",
       "      <td>Miami Heat</td>\n",
       "    </tr>\n",
       "    <tr>\n",
       "      <th>1071</th>\n",
       "      <td>25</td>\n",
       "      <td>193</td>\n",
       "      <td>100</td>\n",
       "      <td>SG</td>\n",
       "      <td>4</td>\n",
       "      <td>Miami Heat</td>\n",
       "    </tr>\n",
       "    <tr>\n",
       "      <th>1073</th>\n",
       "      <td>22</td>\n",
       "      <td>213</td>\n",
       "      <td>113</td>\n",
       "      <td>C</td>\n",
       "      <td>2</td>\n",
       "      <td>Philadelphia Sixers</td>\n",
       "    </tr>\n",
       "    <tr>\n",
       "      <th>1076</th>\n",
       "      <td>26</td>\n",
       "      <td>203</td>\n",
       "      <td>102</td>\n",
       "      <td>GF</td>\n",
       "      <td>6</td>\n",
       "      <td>Utah Jazz</td>\n",
       "    </tr>\n",
       "    <tr>\n",
       "      <th>1096</th>\n",
       "      <td>30</td>\n",
       "      <td>191</td>\n",
       "      <td>85</td>\n",
       "      <td>G</td>\n",
       "      <td>8</td>\n",
       "      <td>Utah Jazz</td>\n",
       "    </tr>\n",
       "    <tr>\n",
       "      <th>1099</th>\n",
       "      <td>21</td>\n",
       "      <td>208</td>\n",
       "      <td>104</td>\n",
       "      <td>PF</td>\n",
       "      <td>1</td>\n",
       "      <td>Philadelphia Sixers</td>\n",
       "    </tr>\n",
       "    <tr>\n",
       "      <th>1100</th>\n",
       "      <td>23</td>\n",
       "      <td>208</td>\n",
       "      <td>113</td>\n",
       "      <td>C</td>\n",
       "      <td>2</td>\n",
       "      <td>Denver Nuggets</td>\n",
       "    </tr>\n",
       "    <tr>\n",
       "      <th>1101</th>\n",
       "      <td>25</td>\n",
       "      <td>193</td>\n",
       "      <td>95</td>\n",
       "      <td>G</td>\n",
       "      <td>4</td>\n",
       "      <td>Indiana Pacers</td>\n",
       "    </tr>\n",
       "    <tr>\n",
       "      <th>1115</th>\n",
       "      <td>26</td>\n",
       "      <td>203</td>\n",
       "      <td>106</td>\n",
       "      <td>SF</td>\n",
       "      <td>5</td>\n",
       "      <td>Milwaukee Bucks</td>\n",
       "    </tr>\n",
       "    <tr>\n",
       "      <th>1123</th>\n",
       "      <td>24</td>\n",
       "      <td>196</td>\n",
       "      <td>94</td>\n",
       "      <td>SG</td>\n",
       "      <td>5</td>\n",
       "      <td>Washington Wizards</td>\n",
       "    </tr>\n",
       "    <tr>\n",
       "      <th>1137</th>\n",
       "      <td>25</td>\n",
       "      <td>206</td>\n",
       "      <td>107</td>\n",
       "      <td>F</td>\n",
       "      <td>6</td>\n",
       "      <td>Detroit Pistons</td>\n",
       "    </tr>\n",
       "    <tr>\n",
       "      <th>1139</th>\n",
       "      <td>22</td>\n",
       "      <td>221</td>\n",
       "      <td>109</td>\n",
       "      <td>FC</td>\n",
       "      <td>2</td>\n",
       "      <td>New York Knicks</td>\n",
       "    </tr>\n",
       "  </tbody>\n",
       "</table>\n",
       "<p>274 rows × 6 columns</p>\n",
       "</div>"
      ],
      "text/plain": [
       "      Age Height Weight Position  Seasons in league                    Team\n",
       "0      29    195     86       PG                  6         New Jersey Nets\n",
       "1      23    198     93       SG                  2    Los Angeles Clippers\n",
       "2      28    198    100        F                  5          Denver Nuggets\n",
       "3      37    218    102        C                 15      Los Angeles Lakers\n",
       "4      28    205    100       SF                  5          Boston Celtics\n",
       "5      26    193     86       SG                  4               Utah Jazz\n",
       "6      24    190     77       PG                  2   Golden State Warriors\n",
       "7      25    198    105       SF                  3        Dallas Mavericks\n",
       "8      25    205    116       PG                  5      Los Angeles Lakers\n",
       "9      25    200     91       SF                  2           Atlanta Hawks\n",
       "10     32    210     98       PF                  9      Washington Bullets\n",
       "11     22    198     98       SG                  0           Chicago Bulls\n",
       "12     31    187     84        G                  9     Cleveland Cavaliers\n",
       "13     23    185     82       PG                  3         Detroit Pistons\n",
       "15     23    205    100       PF                  2         Milwaukee Bucks\n",
       "17     25    205     98       PF                  3           Chicago Bulls\n",
       "18     29    210    104        C                  7     Seattle SuperSonics\n",
       "19     28    200     93       SF                  7         New York Knicks\n",
       "20     29    208     98        C                  8     Philadelphia Sixers\n",
       "21     31    200     86       SF                  8          Denver Nuggets\n",
       "22     26    208     93       PF                  3            Phoenix Suns\n",
       "24     28    208    110        C                  4          Indiana Pacers\n",
       "25     23    198    114       PF                  1     Philadelphia Sixers\n",
       "26     30    195     94       SF                  9               Utah Jazz\n",
       "30     28    190     82       SG                  6         Milwaukee Bucks\n",
       "36     23    200     95       SG                  2  Portland Trail Blazers\n",
       "39     23    190     84       SG                  1       San Antonio Spurs\n",
       "40     27    208    109        C                  4      Washington Bullets\n",
       "43     23    213    109        C                  0         New York Knicks\n",
       "44     25    203     98       PF                  4         New Jersey Nets\n",
       "...   ...    ...    ...      ...                ...                     ...\n",
       "967    26    175     84       PG                  3          Boston Celtics\n",
       "969    26    213    122        C                  6           Brooklyn Nets\n",
       "972    26    190     86        G                  5   Golden State Warriors\n",
       "976    21    208    115       PF                  2    New Orleans Pelicans\n",
       "980    24    190     88        G                  2  Portland Trail Blazers\n",
       "981    20    210    101        F                  1         Milwaukee Bucks\n",
       "986    25    200     98        G                  3   Golden State Warriors\n",
       "993    25    200    105       GF                  3           Chicago Bulls\n",
       "1003   28    185     79        G                  9         Toronto Raptors\n",
       "1012   20    213    111        C                  0  Minnesota Timberwolves\n",
       "1014   31    182     84        G                  9        Dallas Mavericks\n",
       "1022   24    200    104        F                  4       San Antonio Spurs\n",
       "1036   25    200    104        F                  3   Golden State Warriors\n",
       "1037   32    210    109       FC                  8      Washington Wizards\n",
       "1039   25    190     94        G                  4         Detroit Pistons\n",
       "1041   26    200    100       GF                  6         Toronto Raptors\n",
       "1049   27    203     91        F                  7       Charlotte Hornets\n",
       "1051   22    210    127        C                  3         Detroit Pistons\n",
       "1061   27    213    120        C                  4              Miami Heat\n",
       "1071   25    193    100       SG                  4              Miami Heat\n",
       "1073   22    213    113        C                  2     Philadelphia Sixers\n",
       "1076   26    203    102       GF                  6               Utah Jazz\n",
       "1096   30    191     85        G                  8               Utah Jazz\n",
       "1099   21    208    104       PF                  1     Philadelphia Sixers\n",
       "1100   23    208    113        C                  2          Denver Nuggets\n",
       "1101   25    193     95        G                  4          Indiana Pacers\n",
       "1115   26    203    106       SF                  5         Milwaukee Bucks\n",
       "1123   24    196     94       SG                  5      Washington Wizards\n",
       "1137   25    206    107        F                  6         Detroit Pistons\n",
       "1139   22    221    109       FC                  2         New York Knicks\n",
       "\n",
       "[274 rows x 6 columns]"
      ]
     },
     "execution_count": 364,
     "metadata": {},
     "output_type": "execute_result"
    }
   ],
   "source": [
    "# Дропнем ненужные для дальнейшей работы колонки и посмотрим на текущее состояние датасета\n",
    "dataNBA = dataNBA.drop([ 'Player',\n",
    "                         'Season',\n",
    "                         'Date'  ], axis=1, errors='ignore')\n",
    "dataNBA"
   ]
  },
  {
   "cell_type": "code",
   "execution_count": 365,
   "metadata": {},
   "outputs": [
    {
     "data": {
      "text/plain": [
       "Age                   int64\n",
       "Height               object\n",
       "Weight               object\n",
       "Position             object\n",
       "Seasons in league     int64\n",
       "Team                 object\n",
       "dtype: object"
      ]
     },
     "execution_count": 365,
     "metadata": {},
     "output_type": "execute_result"
    }
   ],
   "source": [
    "# Проверим типы столбцов\n",
    "dataNBA.dtypes"
   ]
  },
  {
   "cell_type": "code",
   "execution_count": 366,
   "metadata": {
    "collapsed": true
   },
   "outputs": [],
   "source": [
    "# Приведём вес и рост к int\n",
    "dataNBA['Weight'] = dataNBA.Weight.astype(int)\n",
    "dataNBA['Height'] = dataNBA.Height.astype(int)"
   ]
  },
  {
   "cell_type": "code",
   "execution_count": 367,
   "metadata": {},
   "outputs": [
    {
     "data": {
      "text/plain": [
       "Age                   int64\n",
       "Height                int32\n",
       "Weight                int32\n",
       "Position             object\n",
       "Seasons in league     int64\n",
       "Team                 object\n",
       "dtype: object"
      ]
     },
     "execution_count": 367,
     "metadata": {},
     "output_type": "execute_result"
    }
   ],
   "source": [
    "# Проверим типы теперь\n",
    "dataNBA.dtypes"
   ]
  },
  {
   "cell_type": "code",
   "execution_count": 368,
   "metadata": {},
   "outputs": [
    {
     "data": {
      "text/html": [
       "<div>\n",
       "<style>\n",
       "    .dataframe thead tr:only-child th {\n",
       "        text-align: right;\n",
       "    }\n",
       "\n",
       "    .dataframe thead th {\n",
       "        text-align: left;\n",
       "    }\n",
       "\n",
       "    .dataframe tbody tr th {\n",
       "        vertical-align: top;\n",
       "    }\n",
       "</style>\n",
       "<table border=\"1\" class=\"dataframe\">\n",
       "  <thead>\n",
       "    <tr style=\"text-align: right;\">\n",
       "      <th></th>\n",
       "      <th>Age</th>\n",
       "      <th>Height</th>\n",
       "      <th>Weight</th>\n",
       "      <th>Seasons in league</th>\n",
       "    </tr>\n",
       "  </thead>\n",
       "  <tbody>\n",
       "    <tr>\n",
       "      <th>count</th>\n",
       "      <td>274.000000</td>\n",
       "      <td>274.000000</td>\n",
       "      <td>274.000000</td>\n",
       "      <td>274.000000</td>\n",
       "    </tr>\n",
       "    <tr>\n",
       "      <th>mean</th>\n",
       "      <td>25.266423</td>\n",
       "      <td>200.054745</td>\n",
       "      <td>99.364964</td>\n",
       "      <td>3.729927</td>\n",
       "    </tr>\n",
       "    <tr>\n",
       "      <th>std</th>\n",
       "      <td>3.065554</td>\n",
       "      <td>9.559948</td>\n",
       "      <td>13.345988</td>\n",
       "      <td>2.586252</td>\n",
       "    </tr>\n",
       "    <tr>\n",
       "      <th>min</th>\n",
       "      <td>19.000000</td>\n",
       "      <td>175.000000</td>\n",
       "      <td>68.000000</td>\n",
       "      <td>0.000000</td>\n",
       "    </tr>\n",
       "    <tr>\n",
       "      <th>25%</th>\n",
       "      <td>23.000000</td>\n",
       "      <td>193.000000</td>\n",
       "      <td>88.000000</td>\n",
       "      <td>2.000000</td>\n",
       "    </tr>\n",
       "    <tr>\n",
       "      <th>50%</th>\n",
       "      <td>25.000000</td>\n",
       "      <td>200.000000</td>\n",
       "      <td>100.000000</td>\n",
       "      <td>3.000000</td>\n",
       "    </tr>\n",
       "    <tr>\n",
       "      <th>75%</th>\n",
       "      <td>27.000000</td>\n",
       "      <td>208.000000</td>\n",
       "      <td>109.000000</td>\n",
       "      <td>5.000000</td>\n",
       "    </tr>\n",
       "    <tr>\n",
       "      <th>max</th>\n",
       "      <td>37.000000</td>\n",
       "      <td>228.000000</td>\n",
       "      <td>147.000000</td>\n",
       "      <td>15.000000</td>\n",
       "    </tr>\n",
       "  </tbody>\n",
       "</table>\n",
       "</div>"
      ],
      "text/plain": [
       "              Age      Height      Weight  Seasons in league\n",
       "count  274.000000  274.000000  274.000000         274.000000\n",
       "mean    25.266423  200.054745   99.364964           3.729927\n",
       "std      3.065554    9.559948   13.345988           2.586252\n",
       "min     19.000000  175.000000   68.000000           0.000000\n",
       "25%     23.000000  193.000000   88.000000           2.000000\n",
       "50%     25.000000  200.000000  100.000000           3.000000\n",
       "75%     27.000000  208.000000  109.000000           5.000000\n",
       "max     37.000000  228.000000  147.000000          15.000000"
      ]
     },
     "execution_count": 368,
     "metadata": {},
     "output_type": "execute_result"
    }
   ],
   "source": [
    "dataNBA.describe()"
   ]
  },
  {
   "cell_type": "code",
   "execution_count": 369,
   "metadata": {},
   "outputs": [
    {
     "data": {
      "image/png": "[encoded data removed]",
      "text/plain": [
       "<matplotlib.figure.Figure at 0x1907a03efd0>"
      ]
     },
     "metadata": {},
     "output_type": "display_data"
    }
   ],
   "source": [
    "# Нарисуем графики числовых столбцов друг от друга\n",
    "from pandas.plotting import scatter_matrix\n",
    "scatter_matrix(dataNBA, alpha = .05, figsize = (10, 10))\n",
    "pass"
   ]
  },
  {
   "cell_type": "code",
   "execution_count": 370,
   "metadata": {},
   "outputs": [
    {
     "data": {
      "text/html": [
       "<div>\n",
       "<style>\n",
       "    .dataframe thead tr:only-child th {\n",
       "        text-align: right;\n",
       "    }\n",
       "\n",
       "    .dataframe thead th {\n",
       "        text-align: left;\n",
       "    }\n",
       "\n",
       "    .dataframe tbody tr th {\n",
       "        vertical-align: top;\n",
       "    }\n",
       "</style>\n",
       "<table border=\"1\" class=\"dataframe\">\n",
       "  <thead>\n",
       "    <tr style=\"text-align: right;\">\n",
       "      <th></th>\n",
       "      <th>Age</th>\n",
       "      <th>Height</th>\n",
       "      <th>Weight</th>\n",
       "      <th>Seasons in league</th>\n",
       "    </tr>\n",
       "  </thead>\n",
       "  <tbody>\n",
       "    <tr>\n",
       "      <th>Age</th>\n",
       "      <td>1.000000</td>\n",
       "      <td>0.025998</td>\n",
       "      <td>-0.135251</td>\n",
       "      <td>0.856909</td>\n",
       "    </tr>\n",
       "    <tr>\n",
       "      <th>Height</th>\n",
       "      <td>0.025998</td>\n",
       "      <td>1.000000</td>\n",
       "      <td>0.826658</td>\n",
       "      <td>0.040009</td>\n",
       "    </tr>\n",
       "    <tr>\n",
       "      <th>Weight</th>\n",
       "      <td>-0.135251</td>\n",
       "      <td>0.826658</td>\n",
       "      <td>1.000000</td>\n",
       "      <td>-0.085536</td>\n",
       "    </tr>\n",
       "    <tr>\n",
       "      <th>Seasons in league</th>\n",
       "      <td>0.856909</td>\n",
       "      <td>0.040009</td>\n",
       "      <td>-0.085536</td>\n",
       "      <td>1.000000</td>\n",
       "    </tr>\n",
       "  </tbody>\n",
       "</table>\n",
       "</div>"
      ],
      "text/plain": [
       "                        Age    Height    Weight  Seasons in league\n",
       "Age                1.000000  0.025998 -0.135251           0.856909\n",
       "Height             0.025998  1.000000  0.826658           0.040009\n",
       "Weight            -0.135251  0.826658  1.000000          -0.085536\n",
       "Seasons in league  0.856909  0.040009 -0.085536           1.000000"
      ]
     },
     "execution_count": 370,
     "metadata": {},
     "output_type": "execute_result"
    }
   ],
   "source": [
    "# Корреляция столбцов\n",
    "dataNBA.corr()"
   ]
  },
  {
   "cell_type": "code",
   "execution_count": 371,
   "metadata": {},
   "outputs": [
    {
     "data": {
      "image/png": "[encoded data removed]",
      "text/plain": [
       "<matplotlib.figure.Figure at 0x19001433128>"
      ]
     },
     "metadata": {},
     "output_type": "display_data"
    }
   ],
   "source": [
    "# Построим график зав-ти кол-ва сезонов в лиге от возраста\n",
    "\n",
    "plt.plot(dataNBA['Age'], dataNBA['Seasons in league'], 'o', alpha = 0.05)\n",
    "plt.xlabel('Age')\n",
    "plt.ylabel('Seasons in league')\n",
    "plt.title('Age vs Seasons in league')\n",
    "pass"
   ]
  },
  {
   "cell_type": "code",
   "execution_count": 372,
   "metadata": {
    "collapsed": true
   },
   "outputs": [],
   "source": [
    "# Ближе к нашей задаче :"
   ]
  },
  {
   "cell_type": "code",
   "execution_count": 373,
   "metadata": {
    "collapsed": true
   },
   "outputs": [],
   "source": [
    "# Условно поделим игроков на защитников и нападающих\n",
    "# Для этого сначала уберём игроков с позицией 'GF' или 'G-F' - это универсалы,которые играют(ли) как в защите,\n",
    "# так и в нападении.\n",
    "\n",
    "dataNBA = dataNBA[(dataNBA.Position != 'GF') & (dataNBA.Position != 'G-F')] "
   ]
  },
  {
   "cell_type": "code",
   "execution_count": 374,
   "metadata": {},
   "outputs": [
    {
     "data": {
      "image/png": "[encoded data removed]",
      "text/plain": [
       "<matplotlib.figure.Figure at 0x19002264198>"
      ]
     },
     "metadata": {},
     "output_type": "display_data"
    }
   ],
   "source": [
    "# Теперь все игроков с позициями  'PG','SG','G' \"запишем\" в защитники,\n",
    "# а с позициями 'SF','PF','F','C','FC','F-C' в нападающие\n",
    "# Посмотрим для нападающих и защитников зависимость роста от веса\n",
    "\n",
    "G = dataNBA[(dataNBA['Position'] == 'PG' ) | \n",
    "            (dataNBA['Position'] == 'SG' ) | \n",
    "            (dataNBA['Position'] == 'G'  ) ]\n",
    "\n",
    "F = dataNBA[(dataNBA['Position'] == 'SF' ) |\n",
    "            (dataNBA['Position'] == 'PF' ) |\n",
    "            (dataNBA['Position'] == 'F'  ) | \n",
    "            (dataNBA['Position'] == 'C'  ) |\n",
    "            (dataNBA['Position'] == 'FC' ) |\n",
    "            (dataNBA['Position'] == 'F-C'  )]\n",
    "            \n",
    "plt.figure(figsize = (10, 6)) \n",
    "plt.scatter(G['Weight'],G['Height'],\n",
    "            alpha = 0.25,\n",
    "            label = 'Guards',\n",
    "            color = 'b')\n",
    "\n",
    "plt.scatter(F['Weight'],F['Height'],\n",
    "            alpha = 0.25,\n",
    "            label = 'Forwards',\n",
    "            color = 'r')\n",
    "\n",
    "plt.xlabel('Weight')\n",
    "plt.ylabel('Height')\n",
    "plt.legend()\n",
    "plt.grid()"
   ]
  },
  {
   "cell_type": "code",
   "execution_count": 375,
   "metadata": {},
   "outputs": [
    {
     "data": {
      "text/html": [
       "<div>\n",
       "<style>\n",
       "    .dataframe thead tr:only-child th {\n",
       "        text-align: right;\n",
       "    }\n",
       "\n",
       "    .dataframe thead th {\n",
       "        text-align: left;\n",
       "    }\n",
       "\n",
       "    .dataframe tbody tr th {\n",
       "        vertical-align: top;\n",
       "    }\n",
       "</style>\n",
       "<table border=\"1\" class=\"dataframe\">\n",
       "  <thead>\n",
       "    <tr style=\"text-align: right;\">\n",
       "      <th></th>\n",
       "      <th>Position</th>\n",
       "      <th>Team</th>\n",
       "    </tr>\n",
       "  </thead>\n",
       "  <tbody>\n",
       "    <tr>\n",
       "      <th>count</th>\n",
       "      <td>259</td>\n",
       "      <td>259</td>\n",
       "    </tr>\n",
       "    <tr>\n",
       "      <th>unique</th>\n",
       "      <td>9</td>\n",
       "      <td>35</td>\n",
       "    </tr>\n",
       "    <tr>\n",
       "      <th>top</th>\n",
       "      <td>G</td>\n",
       "      <td>Milwaukee Bucks</td>\n",
       "    </tr>\n",
       "    <tr>\n",
       "      <th>freq</th>\n",
       "      <td>45</td>\n",
       "      <td>14</td>\n",
       "    </tr>\n",
       "  </tbody>\n",
       "</table>\n",
       "</div>"
      ],
      "text/plain": [
       "       Position             Team\n",
       "count       259              259\n",
       "unique        9               35\n",
       "top           G  Milwaukee Bucks\n",
       "freq         45               14"
      ]
     },
     "execution_count": 375,
     "metadata": {},
     "output_type": "execute_result"
    }
   ],
   "source": [
    "dataNBA.describe(include = ['object']) # Признаки с типом object "
   ]
  },
  {
   "cell_type": "code",
   "execution_count": 376,
   "metadata": {},
   "outputs": [
    {
     "data": {
      "text/html": [
       "<div>\n",
       "<style>\n",
       "    .dataframe thead tr:only-child th {\n",
       "        text-align: right;\n",
       "    }\n",
       "\n",
       "    .dataframe thead th {\n",
       "        text-align: left;\n",
       "    }\n",
       "\n",
       "    .dataframe tbody tr th {\n",
       "        vertical-align: top;\n",
       "    }\n",
       "</style>\n",
       "<table border=\"1\" class=\"dataframe\">\n",
       "  <thead>\n",
       "    <tr style=\"text-align: right;\">\n",
       "      <th></th>\n",
       "      <th>Age</th>\n",
       "      <th>Height</th>\n",
       "      <th>Weight</th>\n",
       "      <th>Position</th>\n",
       "      <th>Seasons in league</th>\n",
       "      <th>Team</th>\n",
       "    </tr>\n",
       "  </thead>\n",
       "  <tbody>\n",
       "    <tr>\n",
       "      <th>count</th>\n",
       "      <td>259.000000</td>\n",
       "      <td>259.000000</td>\n",
       "      <td>259.000000</td>\n",
       "      <td>259</td>\n",
       "      <td>259.000000</td>\n",
       "      <td>259</td>\n",
       "    </tr>\n",
       "    <tr>\n",
       "      <th>unique</th>\n",
       "      <td>NaN</td>\n",
       "      <td>NaN</td>\n",
       "      <td>NaN</td>\n",
       "      <td>9</td>\n",
       "      <td>NaN</td>\n",
       "      <td>35</td>\n",
       "    </tr>\n",
       "    <tr>\n",
       "      <th>top</th>\n",
       "      <td>NaN</td>\n",
       "      <td>NaN</td>\n",
       "      <td>NaN</td>\n",
       "      <td>G</td>\n",
       "      <td>NaN</td>\n",
       "      <td>Milwaukee Bucks</td>\n",
       "    </tr>\n",
       "    <tr>\n",
       "      <th>freq</th>\n",
       "      <td>NaN</td>\n",
       "      <td>NaN</td>\n",
       "      <td>NaN</td>\n",
       "      <td>45</td>\n",
       "      <td>NaN</td>\n",
       "      <td>14</td>\n",
       "    </tr>\n",
       "    <tr>\n",
       "      <th>mean</th>\n",
       "      <td>25.266409</td>\n",
       "      <td>200.015444</td>\n",
       "      <td>99.386100</td>\n",
       "      <td>NaN</td>\n",
       "      <td>3.710425</td>\n",
       "      <td>NaN</td>\n",
       "    </tr>\n",
       "    <tr>\n",
       "      <th>std</th>\n",
       "      <td>3.104521</td>\n",
       "      <td>9.815732</td>\n",
       "      <td>13.694534</td>\n",
       "      <td>NaN</td>\n",
       "      <td>2.600896</td>\n",
       "      <td>NaN</td>\n",
       "    </tr>\n",
       "    <tr>\n",
       "      <th>min</th>\n",
       "      <td>19.000000</td>\n",
       "      <td>175.000000</td>\n",
       "      <td>68.000000</td>\n",
       "      <td>NaN</td>\n",
       "      <td>0.000000</td>\n",
       "      <td>NaN</td>\n",
       "    </tr>\n",
       "    <tr>\n",
       "      <th>25%</th>\n",
       "      <td>23.000000</td>\n",
       "      <td>193.000000</td>\n",
       "      <td>88.000000</td>\n",
       "      <td>NaN</td>\n",
       "      <td>2.000000</td>\n",
       "      <td>NaN</td>\n",
       "    </tr>\n",
       "    <tr>\n",
       "      <th>50%</th>\n",
       "      <td>25.000000</td>\n",
       "      <td>200.000000</td>\n",
       "      <td>100.000000</td>\n",
       "      <td>NaN</td>\n",
       "      <td>3.000000</td>\n",
       "      <td>NaN</td>\n",
       "    </tr>\n",
       "    <tr>\n",
       "      <th>75%</th>\n",
       "      <td>27.000000</td>\n",
       "      <td>208.000000</td>\n",
       "      <td>109.000000</td>\n",
       "      <td>NaN</td>\n",
       "      <td>5.000000</td>\n",
       "      <td>NaN</td>\n",
       "    </tr>\n",
       "    <tr>\n",
       "      <th>max</th>\n",
       "      <td>37.000000</td>\n",
       "      <td>228.000000</td>\n",
       "      <td>147.000000</td>\n",
       "      <td>NaN</td>\n",
       "      <td>15.000000</td>\n",
       "      <td>NaN</td>\n",
       "    </tr>\n",
       "  </tbody>\n",
       "</table>\n",
       "</div>"
      ],
      "text/plain": [
       "               Age      Height      Weight Position  Seasons in league  \\\n",
       "count   259.000000  259.000000  259.000000      259         259.000000   \n",
       "unique         NaN         NaN         NaN        9                NaN   \n",
       "top            NaN         NaN         NaN        G                NaN   \n",
       "freq           NaN         NaN         NaN       45                NaN   \n",
       "mean     25.266409  200.015444   99.386100      NaN           3.710425   \n",
       "std       3.104521    9.815732   13.694534      NaN           2.600896   \n",
       "min      19.000000  175.000000   68.000000      NaN           0.000000   \n",
       "25%      23.000000  193.000000   88.000000      NaN           2.000000   \n",
       "50%      25.000000  200.000000  100.000000      NaN           3.000000   \n",
       "75%      27.000000  208.000000  109.000000      NaN           5.000000   \n",
       "max      37.000000  228.000000  147.000000      NaN          15.000000   \n",
       "\n",
       "                   Team  \n",
       "count               259  \n",
       "unique               35  \n",
       "top     Milwaukee Bucks  \n",
       "freq                 14  \n",
       "mean                NaN  \n",
       "std                 NaN  \n",
       "min                 NaN  \n",
       "25%                 NaN  \n",
       "50%                 NaN  \n",
       "75%                 NaN  \n",
       "max                 NaN  "
      ]
     },
     "execution_count": 376,
     "metadata": {},
     "output_type": "execute_result"
    }
   ],
   "source": [
    "dataNBA.describe(include = 'all') # Все признаки"
   ]
  },
  {
   "cell_type": "code",
   "execution_count": 377,
   "metadata": {},
   "outputs": [
    {
     "data": {
      "text/plain": [
       "array(['New Jersey Nets', 'Los Angeles Clippers', 'Denver Nuggets',\n",
       "       'Los Angeles Lakers', 'Boston Celtics', 'Utah Jazz',\n",
       "       'Golden State Warriors', 'Dallas Mavericks', 'Atlanta Hawks',\n",
       "       'Washington Bullets', 'Chicago Bulls', 'Cleveland Cavaliers',\n",
       "       'Detroit Pistons', 'Milwaukee Bucks', 'Seattle SuperSonics',\n",
       "       'New York Knicks', 'Philadelphia Sixers', 'Phoenix Suns',\n",
       "       'Indiana Pacers', 'Portland Trail Blazers', 'San Antonio Spurs',\n",
       "       'Sacramento Kings', 'Houston Rockets', 'Miami Heat',\n",
       "       'Orlando Magic', 'Charlotte Hornets', 'Minnesota Timberwolves',\n",
       "       'Toronto Raptors', 'Washington Wizards', 'New Orleans Hornets',\n",
       "       'Memphis Grizzlies', 'Charlotte Bobcats', 'Oklahoma City Thunder',\n",
       "       'Brooklyn Nets', 'New Orleans Pelicans'], dtype=object)"
      ]
     },
     "execution_count": 377,
     "metadata": {},
     "output_type": "execute_result"
    }
   ],
   "source": [
    "dataNBA['Team'].unique()  # Уникальные команды"
   ]
  },
  {
   "cell_type": "markdown",
   "metadata": {},
   "source": [
    "# Задача"
   ]
  },
  {
   "cell_type": "code",
   "execution_count": 378,
   "metadata": {},
   "outputs": [
    {
     "name": "stdout",
     "output_type": "stream",
     "text": [
      "категориальные :  ['Position', 'Team']\n",
      "числовые :  ['Age', 'Height', 'Weight', 'Seasons in league']\n"
     ]
    }
   ],
   "source": [
    "# Поделим колонки на категориальные и числовые\n",
    "categorical_columns = [c for c in dataNBA.columns if dataNBA[c].dtype.name == 'object'] #\n",
    "numerical_columns   = [c for c in dataNBA.columns if dataNBA[c].dtype.name != 'object']\n",
    "print('категориальные : ',categorical_columns)\n",
    "print('числовые : ',numerical_columns)"
   ]
  },
  {
   "cell_type": "code",
   "execution_count": 379,
   "metadata": {},
   "outputs": [
    {
     "name": "stdout",
     "output_type": "stream",
     "text": [
      "Position ['PG' 'SG' 'F' 'C' 'SF' 'PF' 'G' 'FC' 'F-C']\n",
      "Team ['New Jersey Nets' 'Los Angeles Clippers' 'Denver Nuggets'\n",
      " 'Los Angeles Lakers' 'Boston Celtics' 'Utah Jazz' 'Golden State Warriors'\n",
      " 'Dallas Mavericks' 'Atlanta Hawks' 'Washington Bullets' 'Chicago Bulls'\n",
      " 'Cleveland Cavaliers' 'Detroit Pistons' 'Milwaukee Bucks'\n",
      " 'Seattle SuperSonics' 'New York Knicks' 'Philadelphia Sixers'\n",
      " 'Phoenix Suns' 'Indiana Pacers' 'Portland Trail Blazers'\n",
      " 'San Antonio Spurs' 'Sacramento Kings' 'Houston Rockets' 'Miami Heat'\n",
      " 'Orlando Magic' 'Charlotte Hornets' 'Minnesota Timberwolves'\n",
      " 'Toronto Raptors' 'Washington Wizards' 'New Orleans Hornets'\n",
      " 'Memphis Grizzlies' 'Charlotte Bobcats' 'Oklahoma City Thunder'\n",
      " 'Brooklyn Nets' 'New Orleans Pelicans']\n"
     ]
    }
   ],
   "source": [
    "for c in categorical_columns:\n",
    "    print(c, dataNBA[c].unique())"
   ]
  },
  {
   "cell_type": "code",
   "execution_count": 380,
   "metadata": {},
   "outputs": [
    {
     "data": {
      "text/plain": [
       "Age                   25.0\n",
       "Height               200.0\n",
       "Weight               100.0\n",
       "Seasons in league      3.0\n",
       "dtype: float64"
      ]
     },
     "execution_count": 380,
     "metadata": {},
     "output_type": "execute_result"
    }
   ],
   "source": [
    "# Медианы числовых колонок\n",
    "dataNBA.median(axis = 0)"
   ]
  },
  {
   "cell_type": "code",
   "execution_count": 381,
   "metadata": {
    "collapsed": true
   },
   "outputs": [],
   "source": [
    "# Заполним медианами возможные NA значания\n",
    "dataNBA = dataNBA.fillna(dataNBA.median(axis = 0), axis = 0)"
   ]
  },
  {
   "cell_type": "code",
   "execution_count": 382,
   "metadata": {},
   "outputs": [
    {
     "data": {
      "text/plain": [
       "Age                  259\n",
       "Height               259\n",
       "Weight               259\n",
       "Seasons in league    259\n",
       "dtype: int64"
      ]
     },
     "execution_count": 382,
     "metadata": {},
     "output_type": "execute_result"
    }
   ],
   "source": [
    "dataNBA[numerical_columns].count(axis=0)"
   ]
  },
  {
   "cell_type": "code",
   "execution_count": 383,
   "metadata": {},
   "outputs": [
    {
     "data": {
      "text/plain": [
       "Position    259\n",
       "Team        259\n",
       "dtype: int64"
      ]
     },
     "execution_count": 383,
     "metadata": {},
     "output_type": "execute_result"
    }
   ],
   "source": [
    "dataNBA[categorical_columns].count(axis = 0)"
   ]
  },
  {
   "cell_type": "code",
   "execution_count": 384,
   "metadata": {},
   "outputs": [
    {
     "data": {
      "text/plain": [
       "array(['PG', 'SG', 'F', 'C', 'SF', 'PF', 'G', 'FC', 'F-C'], dtype=object)"
      ]
     },
     "execution_count": 384,
     "metadata": {},
     "output_type": "execute_result"
    }
   ],
   "source": [
    "dataNBA['Position'].unique()"
   ]
  },
  {
   "cell_type": "code",
   "execution_count": 385,
   "metadata": {},
   "outputs": [
    {
     "data": {
      "text/plain": [
       "count     259\n",
       "unique      2\n",
       "top         1\n",
       "freq      147\n",
       "Name: Position, dtype: int64"
      ]
     },
     "execution_count": 385,
     "metadata": {},
     "output_type": "execute_result"
    }
   ],
   "source": [
    "# Сделаем колонку 'Position' бинарной - защитников обозначим за 0,нападающих за 1\n",
    "\n",
    "dataNBA.at[(dataNBA['Position'] == 'PG' ) | \n",
    "           (dataNBA['Position'] == 'SG' ) | \n",
    "           (dataNBA['Position'] == 'G'  ), 'Position'] = 0\n",
    "\n",
    "\n",
    "dataNBA.at[(dataNBA['Position'] == 'SF' ) |\n",
    "           (dataNBA['Position'] == 'PF' ) |\n",
    "           (dataNBA['Position'] == 'F'  ) | \n",
    "           (dataNBA['Position'] == 'C'  ) |\n",
    "           (dataNBA['Position'] == 'FC' ) |\n",
    "           (dataNBA['Position'] == 'F-C'  ),'Position'] = 1\n",
    "dataNBA['Position'].describe()"
   ]
  },
  {
   "cell_type": "markdown",
   "metadata": {},
   "source": [
    "# Векторизация\n",
    "Нужно что-то сделать с категориальными (номинальными) признаками"
   ]
  },
  {
   "cell_type": "code",
   "execution_count": 386,
   "metadata": {},
   "outputs": [
    {
     "name": "stdout",
     "output_type": "stream",
     "text": [
      "Бинарные-  ['Position']\n",
      "Небинарные-  ['Team']\n"
     ]
    }
   ],
   "source": [
    "dataNBA_describe = dataNBA.describe(include =[object])\n",
    "binary_columns = [c for c in categorical_columns if dataNBA_describe[c]['unique']==2]\n",
    "nonbinary_columns = [c for c in categorical_columns if dataNBA_describe[c]['unique']>2]\n",
    "print ('Бинарные- ',binary_columns)\n",
    "print ('Небинарные- ',nonbinary_columns)"
   ]
  },
  {
   "cell_type": "code",
   "execution_count": 387,
   "metadata": {},
   "outputs": [
    {
     "name": "stdout",
     "output_type": "stream",
     "text": [
      "Index(['Team_Atlanta Hawks', 'Team_Boston Celtics', 'Team_Brooklyn Nets',\n",
      "       'Team_Charlotte Bobcats', 'Team_Charlotte Hornets',\n",
      "       'Team_Chicago Bulls', 'Team_Cleveland Cavaliers',\n",
      "       'Team_Dallas Mavericks', 'Team_Denver Nuggets', 'Team_Detroit Pistons',\n",
      "       'Team_Golden State Warriors', 'Team_Houston Rockets',\n",
      "       'Team_Indiana Pacers', 'Team_Los Angeles Clippers',\n",
      "       'Team_Los Angeles Lakers', 'Team_Memphis Grizzlies', 'Team_Miami Heat',\n",
      "       'Team_Milwaukee Bucks', 'Team_Minnesota Timberwolves',\n",
      "       'Team_New Jersey Nets', 'Team_New Orleans Hornets',\n",
      "       'Team_New Orleans Pelicans', 'Team_New York Knicks',\n",
      "       'Team_Oklahoma City Thunder', 'Team_Orlando Magic',\n",
      "       'Team_Philadelphia Sixers', 'Team_Phoenix Suns',\n",
      "       'Team_Portland Trail Blazers', 'Team_Sacramento Kings',\n",
      "       'Team_San Antonio Spurs', 'Team_Seattle SuperSonics',\n",
      "       'Team_Toronto Raptors', 'Team_Utah Jazz', 'Team_Washington Bullets',\n",
      "       'Team_Washington Wizards'],\n",
      "      dtype='object')\n"
     ]
    }
   ],
   "source": [
    "dataNBA_nonbinary = pd.get_dummies(dataNBA[nonbinary_columns])\n",
    "print(dataNBA_nonbinary.columns)"
   ]
  },
  {
   "cell_type": "markdown",
   "metadata": {},
   "source": [
    "# Нормализация количественных признаков"
   ]
  },
  {
   "cell_type": "code",
   "execution_count": 388,
   "metadata": {},
   "outputs": [
    {
     "data": {
      "text/html": [
       "<div>\n",
       "<style>\n",
       "    .dataframe thead tr:only-child th {\n",
       "        text-align: right;\n",
       "    }\n",
       "\n",
       "    .dataframe thead th {\n",
       "        text-align: left;\n",
       "    }\n",
       "\n",
       "    .dataframe tbody tr th {\n",
       "        vertical-align: top;\n",
       "    }\n",
       "</style>\n",
       "<table border=\"1\" class=\"dataframe\">\n",
       "  <thead>\n",
       "    <tr style=\"text-align: right;\">\n",
       "      <th></th>\n",
       "      <th>Age</th>\n",
       "      <th>Height</th>\n",
       "      <th>Weight</th>\n",
       "      <th>Seasons in league</th>\n",
       "    </tr>\n",
       "  </thead>\n",
       "  <tbody>\n",
       "    <tr>\n",
       "      <th>count</th>\n",
       "      <td>259.000000</td>\n",
       "      <td>259.000000</td>\n",
       "      <td>259.000000</td>\n",
       "      <td>259.000000</td>\n",
       "    </tr>\n",
       "    <tr>\n",
       "      <th>mean</th>\n",
       "      <td>25.266409</td>\n",
       "      <td>200.015444</td>\n",
       "      <td>99.386100</td>\n",
       "      <td>3.710425</td>\n",
       "    </tr>\n",
       "    <tr>\n",
       "      <th>std</th>\n",
       "      <td>3.104521</td>\n",
       "      <td>9.815732</td>\n",
       "      <td>13.694534</td>\n",
       "      <td>2.600896</td>\n",
       "    </tr>\n",
       "    <tr>\n",
       "      <th>min</th>\n",
       "      <td>19.000000</td>\n",
       "      <td>175.000000</td>\n",
       "      <td>68.000000</td>\n",
       "      <td>0.000000</td>\n",
       "    </tr>\n",
       "    <tr>\n",
       "      <th>25%</th>\n",
       "      <td>23.000000</td>\n",
       "      <td>193.000000</td>\n",
       "      <td>88.000000</td>\n",
       "      <td>2.000000</td>\n",
       "    </tr>\n",
       "    <tr>\n",
       "      <th>50%</th>\n",
       "      <td>25.000000</td>\n",
       "      <td>200.000000</td>\n",
       "      <td>100.000000</td>\n",
       "      <td>3.000000</td>\n",
       "    </tr>\n",
       "    <tr>\n",
       "      <th>75%</th>\n",
       "      <td>27.000000</td>\n",
       "      <td>208.000000</td>\n",
       "      <td>109.000000</td>\n",
       "      <td>5.000000</td>\n",
       "    </tr>\n",
       "    <tr>\n",
       "      <th>max</th>\n",
       "      <td>37.000000</td>\n",
       "      <td>228.000000</td>\n",
       "      <td>147.000000</td>\n",
       "      <td>15.000000</td>\n",
       "    </tr>\n",
       "  </tbody>\n",
       "</table>\n",
       "</div>"
      ],
      "text/plain": [
       "              Age      Height      Weight  Seasons in league\n",
       "count  259.000000  259.000000  259.000000         259.000000\n",
       "mean    25.266409  200.015444   99.386100           3.710425\n",
       "std      3.104521    9.815732   13.694534           2.600896\n",
       "min     19.000000  175.000000   68.000000           0.000000\n",
       "25%     23.000000  193.000000   88.000000           2.000000\n",
       "50%     25.000000  200.000000  100.000000           3.000000\n",
       "75%     27.000000  208.000000  109.000000           5.000000\n",
       "max     37.000000  228.000000  147.000000          15.000000"
      ]
     },
     "execution_count": 388,
     "metadata": {},
     "output_type": "execute_result"
    }
   ],
   "source": [
    "dataNBA_numerical = dataNBA[numerical_columns]\n",
    "dataNBA_numerical.describe()"
   ]
  },
  {
   "cell_type": "code",
   "execution_count": 389,
   "metadata": {
    "collapsed": true
   },
   "outputs": [],
   "source": [
    "dataNBA_numerical = (dataNBA_numerical - dataNBA_numerical.mean(axis = 0))/dataNBA_numerical.std(axis = 0)"
   ]
  },
  {
   "cell_type": "code",
   "execution_count": 390,
   "metadata": {},
   "outputs": [
    {
     "data": {
      "text/html": [
       "<div>\n",
       "<style>\n",
       "    .dataframe thead tr:only-child th {\n",
       "        text-align: right;\n",
       "    }\n",
       "\n",
       "    .dataframe thead th {\n",
       "        text-align: left;\n",
       "    }\n",
       "\n",
       "    .dataframe tbody tr th {\n",
       "        vertical-align: top;\n",
       "    }\n",
       "</style>\n",
       "<table border=\"1\" class=\"dataframe\">\n",
       "  <thead>\n",
       "    <tr style=\"text-align: right;\">\n",
       "      <th></th>\n",
       "      <th>Age</th>\n",
       "      <th>Height</th>\n",
       "      <th>Weight</th>\n",
       "      <th>Seasons in league</th>\n",
       "    </tr>\n",
       "  </thead>\n",
       "  <tbody>\n",
       "    <tr>\n",
       "      <th>count</th>\n",
       "      <td>2.590000e+02</td>\n",
       "      <td>2.590000e+02</td>\n",
       "      <td>2.590000e+02</td>\n",
       "      <td>2.590000e+02</td>\n",
       "    </tr>\n",
       "    <tr>\n",
       "      <th>mean</th>\n",
       "      <td>2.177580e-16</td>\n",
       "      <td>-2.829140e-16</td>\n",
       "      <td>3.403541e-16</td>\n",
       "      <td>2.186153e-17</td>\n",
       "    </tr>\n",
       "    <tr>\n",
       "      <th>std</th>\n",
       "      <td>1.000000e+00</td>\n",
       "      <td>1.000000e+00</td>\n",
       "      <td>1.000000e+00</td>\n",
       "      <td>1.000000e+00</td>\n",
       "    </tr>\n",
       "    <tr>\n",
       "      <th>min</th>\n",
       "      <td>-2.018478e+00</td>\n",
       "      <td>-2.548505e+00</td>\n",
       "      <td>-2.291871e+00</td>\n",
       "      <td>-1.426595e+00</td>\n",
       "    </tr>\n",
       "    <tr>\n",
       "      <th>25%</th>\n",
       "      <td>-7.300350e-01</td>\n",
       "      <td>-7.147143e-01</td>\n",
       "      <td>-8.314339e-01</td>\n",
       "      <td>-6.576291e-01</td>\n",
       "    </tr>\n",
       "    <tr>\n",
       "      <th>50%</th>\n",
       "      <td>-8.581331e-02</td>\n",
       "      <td>-1.573394e-03</td>\n",
       "      <td>4.482808e-02</td>\n",
       "      <td>-2.731462e-01</td>\n",
       "    </tr>\n",
       "    <tr>\n",
       "      <th>75%</th>\n",
       "      <td>5.584084e-01</td>\n",
       "      <td>8.134448e-01</td>\n",
       "      <td>7.020246e-01</td>\n",
       "      <td>4.958197e-01</td>\n",
       "    </tr>\n",
       "    <tr>\n",
       "      <th>max</th>\n",
       "      <td>3.779517e+00</td>\n",
       "      <td>2.850990e+00</td>\n",
       "      <td>3.476854e+00</td>\n",
       "      <td>4.340649e+00</td>\n",
       "    </tr>\n",
       "  </tbody>\n",
       "</table>\n",
       "</div>"
      ],
      "text/plain": [
       "                Age        Height        Weight  Seasons in league\n",
       "count  2.590000e+02  2.590000e+02  2.590000e+02       2.590000e+02\n",
       "mean   2.177580e-16 -2.829140e-16  3.403541e-16       2.186153e-17\n",
       "std    1.000000e+00  1.000000e+00  1.000000e+00       1.000000e+00\n",
       "min   -2.018478e+00 -2.548505e+00 -2.291871e+00      -1.426595e+00\n",
       "25%   -7.300350e-01 -7.147143e-01 -8.314339e-01      -6.576291e-01\n",
       "50%   -8.581331e-02 -1.573394e-03  4.482808e-02      -2.731462e-01\n",
       "75%    5.584084e-01  8.134448e-01  7.020246e-01       4.958197e-01\n",
       "max    3.779517e+00  2.850990e+00  3.476854e+00       4.340649e+00"
      ]
     },
     "execution_count": 390,
     "metadata": {},
     "output_type": "execute_result"
    }
   ],
   "source": [
    "dataNBA_numerical.describe()"
   ]
  },
  {
   "cell_type": "code",
   "execution_count": 391,
   "metadata": {},
   "outputs": [
    {
     "data": {
      "text/html": [
       "<div>\n",
       "<style>\n",
       "    .dataframe thead tr:only-child th {\n",
       "        text-align: right;\n",
       "    }\n",
       "\n",
       "    .dataframe thead th {\n",
       "        text-align: left;\n",
       "    }\n",
       "\n",
       "    .dataframe tbody tr th {\n",
       "        vertical-align: top;\n",
       "    }\n",
       "</style>\n",
       "<table border=\"1\" class=\"dataframe\">\n",
       "  <thead>\n",
       "    <tr style=\"text-align: right;\">\n",
       "      <th></th>\n",
       "      <th>Age</th>\n",
       "      <th>Height</th>\n",
       "      <th>Weight</th>\n",
       "      <th>Seasons in league</th>\n",
       "      <th>Team_Atlanta Hawks</th>\n",
       "      <th>Team_Boston Celtics</th>\n",
       "      <th>Team_Brooklyn Nets</th>\n",
       "      <th>Team_Charlotte Bobcats</th>\n",
       "      <th>Team_Charlotte Hornets</th>\n",
       "      <th>Team_Chicago Bulls</th>\n",
       "      <th>...</th>\n",
       "      <th>Team_Philadelphia Sixers</th>\n",
       "      <th>Team_Phoenix Suns</th>\n",
       "      <th>Team_Portland Trail Blazers</th>\n",
       "      <th>Team_Sacramento Kings</th>\n",
       "      <th>Team_San Antonio Spurs</th>\n",
       "      <th>Team_Seattle SuperSonics</th>\n",
       "      <th>Team_Toronto Raptors</th>\n",
       "      <th>Team_Utah Jazz</th>\n",
       "      <th>Team_Washington Bullets</th>\n",
       "      <th>Team_Washington Wizards</th>\n",
       "    </tr>\n",
       "  </thead>\n",
       "  <tbody>\n",
       "    <tr>\n",
       "      <th>count</th>\n",
       "      <td>2.590000e+02</td>\n",
       "      <td>2.590000e+02</td>\n",
       "      <td>2.590000e+02</td>\n",
       "      <td>2.590000e+02</td>\n",
       "      <td>259.000000</td>\n",
       "      <td>259.000000</td>\n",
       "      <td>259.000000</td>\n",
       "      <td>259.000000</td>\n",
       "      <td>259.000000</td>\n",
       "      <td>259.000000</td>\n",
       "      <td>...</td>\n",
       "      <td>259.000000</td>\n",
       "      <td>259.000000</td>\n",
       "      <td>259.000000</td>\n",
       "      <td>259.000000</td>\n",
       "      <td>259.000000</td>\n",
       "      <td>259.000000</td>\n",
       "      <td>259.000000</td>\n",
       "      <td>259.000000</td>\n",
       "      <td>259.000000</td>\n",
       "      <td>259.000000</td>\n",
       "    </tr>\n",
       "    <tr>\n",
       "      <th>mean</th>\n",
       "      <td>2.177580e-16</td>\n",
       "      <td>-2.829140e-16</td>\n",
       "      <td>3.403541e-16</td>\n",
       "      <td>2.186153e-17</td>\n",
       "      <td>0.034749</td>\n",
       "      <td>0.038610</td>\n",
       "      <td>0.003861</td>\n",
       "      <td>0.007722</td>\n",
       "      <td>0.015444</td>\n",
       "      <td>0.023166</td>\n",
       "      <td>...</td>\n",
       "      <td>0.034749</td>\n",
       "      <td>0.027027</td>\n",
       "      <td>0.030888</td>\n",
       "      <td>0.027027</td>\n",
       "      <td>0.034749</td>\n",
       "      <td>0.027027</td>\n",
       "      <td>0.015444</td>\n",
       "      <td>0.038610</td>\n",
       "      <td>0.015444</td>\n",
       "      <td>0.034749</td>\n",
       "    </tr>\n",
       "    <tr>\n",
       "      <th>std</th>\n",
       "      <td>1.000000e+00</td>\n",
       "      <td>1.000000e+00</td>\n",
       "      <td>1.000000e+00</td>\n",
       "      <td>1.000000e+00</td>\n",
       "      <td>0.183498</td>\n",
       "      <td>0.193037</td>\n",
       "      <td>0.062137</td>\n",
       "      <td>0.087704</td>\n",
       "      <td>0.123549</td>\n",
       "      <td>0.150722</td>\n",
       "      <td>...</td>\n",
       "      <td>0.183498</td>\n",
       "      <td>0.162476</td>\n",
       "      <td>0.173349</td>\n",
       "      <td>0.162476</td>\n",
       "      <td>0.183498</td>\n",
       "      <td>0.162476</td>\n",
       "      <td>0.123549</td>\n",
       "      <td>0.193037</td>\n",
       "      <td>0.123549</td>\n",
       "      <td>0.183498</td>\n",
       "    </tr>\n",
       "    <tr>\n",
       "      <th>min</th>\n",
       "      <td>-2.018478e+00</td>\n",
       "      <td>-2.548505e+00</td>\n",
       "      <td>-2.291871e+00</td>\n",
       "      <td>-1.426595e+00</td>\n",
       "      <td>0.000000</td>\n",
       "      <td>0.000000</td>\n",
       "      <td>0.000000</td>\n",
       "      <td>0.000000</td>\n",
       "      <td>0.000000</td>\n",
       "      <td>0.000000</td>\n",
       "      <td>...</td>\n",
       "      <td>0.000000</td>\n",
       "      <td>0.000000</td>\n",
       "      <td>0.000000</td>\n",
       "      <td>0.000000</td>\n",
       "      <td>0.000000</td>\n",
       "      <td>0.000000</td>\n",
       "      <td>0.000000</td>\n",
       "      <td>0.000000</td>\n",
       "      <td>0.000000</td>\n",
       "      <td>0.000000</td>\n",
       "    </tr>\n",
       "    <tr>\n",
       "      <th>25%</th>\n",
       "      <td>-7.300350e-01</td>\n",
       "      <td>-7.147143e-01</td>\n",
       "      <td>-8.314339e-01</td>\n",
       "      <td>-6.576291e-01</td>\n",
       "      <td>0.000000</td>\n",
       "      <td>0.000000</td>\n",
       "      <td>0.000000</td>\n",
       "      <td>0.000000</td>\n",
       "      <td>0.000000</td>\n",
       "      <td>0.000000</td>\n",
       "      <td>...</td>\n",
       "      <td>0.000000</td>\n",
       "      <td>0.000000</td>\n",
       "      <td>0.000000</td>\n",
       "      <td>0.000000</td>\n",
       "      <td>0.000000</td>\n",
       "      <td>0.000000</td>\n",
       "      <td>0.000000</td>\n",
       "      <td>0.000000</td>\n",
       "      <td>0.000000</td>\n",
       "      <td>0.000000</td>\n",
       "    </tr>\n",
       "    <tr>\n",
       "      <th>50%</th>\n",
       "      <td>-8.581331e-02</td>\n",
       "      <td>-1.573394e-03</td>\n",
       "      <td>4.482808e-02</td>\n",
       "      <td>-2.731462e-01</td>\n",
       "      <td>0.000000</td>\n",
       "      <td>0.000000</td>\n",
       "      <td>0.000000</td>\n",
       "      <td>0.000000</td>\n",
       "      <td>0.000000</td>\n",
       "      <td>0.000000</td>\n",
       "      <td>...</td>\n",
       "      <td>0.000000</td>\n",
       "      <td>0.000000</td>\n",
       "      <td>0.000000</td>\n",
       "      <td>0.000000</td>\n",
       "      <td>0.000000</td>\n",
       "      <td>0.000000</td>\n",
       "      <td>0.000000</td>\n",
       "      <td>0.000000</td>\n",
       "      <td>0.000000</td>\n",
       "      <td>0.000000</td>\n",
       "    </tr>\n",
       "    <tr>\n",
       "      <th>75%</th>\n",
       "      <td>5.584084e-01</td>\n",
       "      <td>8.134448e-01</td>\n",
       "      <td>7.020246e-01</td>\n",
       "      <td>4.958197e-01</td>\n",
       "      <td>0.000000</td>\n",
       "      <td>0.000000</td>\n",
       "      <td>0.000000</td>\n",
       "      <td>0.000000</td>\n",
       "      <td>0.000000</td>\n",
       "      <td>0.000000</td>\n",
       "      <td>...</td>\n",
       "      <td>0.000000</td>\n",
       "      <td>0.000000</td>\n",
       "      <td>0.000000</td>\n",
       "      <td>0.000000</td>\n",
       "      <td>0.000000</td>\n",
       "      <td>0.000000</td>\n",
       "      <td>0.000000</td>\n",
       "      <td>0.000000</td>\n",
       "      <td>0.000000</td>\n",
       "      <td>0.000000</td>\n",
       "    </tr>\n",
       "    <tr>\n",
       "      <th>max</th>\n",
       "      <td>3.779517e+00</td>\n",
       "      <td>2.850990e+00</td>\n",
       "      <td>3.476854e+00</td>\n",
       "      <td>4.340649e+00</td>\n",
       "      <td>1.000000</td>\n",
       "      <td>1.000000</td>\n",
       "      <td>1.000000</td>\n",
       "      <td>1.000000</td>\n",
       "      <td>1.000000</td>\n",
       "      <td>1.000000</td>\n",
       "      <td>...</td>\n",
       "      <td>1.000000</td>\n",
       "      <td>1.000000</td>\n",
       "      <td>1.000000</td>\n",
       "      <td>1.000000</td>\n",
       "      <td>1.000000</td>\n",
       "      <td>1.000000</td>\n",
       "      <td>1.000000</td>\n",
       "      <td>1.000000</td>\n",
       "      <td>1.000000</td>\n",
       "      <td>1.000000</td>\n",
       "    </tr>\n",
       "  </tbody>\n",
       "</table>\n",
       "<p>8 rows × 39 columns</p>\n",
       "</div>"
      ],
      "text/plain": [
       "                Age        Height        Weight  Seasons in league  \\\n",
       "count  2.590000e+02  2.590000e+02  2.590000e+02       2.590000e+02   \n",
       "mean   2.177580e-16 -2.829140e-16  3.403541e-16       2.186153e-17   \n",
       "std    1.000000e+00  1.000000e+00  1.000000e+00       1.000000e+00   \n",
       "min   -2.018478e+00 -2.548505e+00 -2.291871e+00      -1.426595e+00   \n",
       "25%   -7.300350e-01 -7.147143e-01 -8.314339e-01      -6.576291e-01   \n",
       "50%   -8.581331e-02 -1.573394e-03  4.482808e-02      -2.731462e-01   \n",
       "75%    5.584084e-01  8.134448e-01  7.020246e-01       4.958197e-01   \n",
       "max    3.779517e+00  2.850990e+00  3.476854e+00       4.340649e+00   \n",
       "\n",
       "       Team_Atlanta Hawks  Team_Boston Celtics  Team_Brooklyn Nets  \\\n",
       "count          259.000000           259.000000          259.000000   \n",
       "mean             0.034749             0.038610            0.003861   \n",
       "std              0.183498             0.193037            0.062137   \n",
       "min              0.000000             0.000000            0.000000   \n",
       "25%              0.000000             0.000000            0.000000   \n",
       "50%              0.000000             0.000000            0.000000   \n",
       "75%              0.000000             0.000000            0.000000   \n",
       "max              1.000000             1.000000            1.000000   \n",
       "\n",
       "       Team_Charlotte Bobcats  Team_Charlotte Hornets  Team_Chicago Bulls  \\\n",
       "count              259.000000              259.000000          259.000000   \n",
       "mean                 0.007722                0.015444            0.023166   \n",
       "std                  0.087704                0.123549            0.150722   \n",
       "min                  0.000000                0.000000            0.000000   \n",
       "25%                  0.000000                0.000000            0.000000   \n",
       "50%                  0.000000                0.000000            0.000000   \n",
       "75%                  0.000000                0.000000            0.000000   \n",
       "max                  1.000000                1.000000            1.000000   \n",
       "\n",
       "                ...             Team_Philadelphia Sixers  Team_Phoenix Suns  \\\n",
       "count           ...                           259.000000         259.000000   \n",
       "mean            ...                             0.034749           0.027027   \n",
       "std             ...                             0.183498           0.162476   \n",
       "min             ...                             0.000000           0.000000   \n",
       "25%             ...                             0.000000           0.000000   \n",
       "50%             ...                             0.000000           0.000000   \n",
       "75%             ...                             0.000000           0.000000   \n",
       "max             ...                             1.000000           1.000000   \n",
       "\n",
       "       Team_Portland Trail Blazers  Team_Sacramento Kings  \\\n",
       "count                   259.000000             259.000000   \n",
       "mean                      0.030888               0.027027   \n",
       "std                       0.173349               0.162476   \n",
       "min                       0.000000               0.000000   \n",
       "25%                       0.000000               0.000000   \n",
       "50%                       0.000000               0.000000   \n",
       "75%                       0.000000               0.000000   \n",
       "max                       1.000000               1.000000   \n",
       "\n",
       "       Team_San Antonio Spurs  Team_Seattle SuperSonics  Team_Toronto Raptors  \\\n",
       "count              259.000000                259.000000            259.000000   \n",
       "mean                 0.034749                  0.027027              0.015444   \n",
       "std                  0.183498                  0.162476              0.123549   \n",
       "min                  0.000000                  0.000000              0.000000   \n",
       "25%                  0.000000                  0.000000              0.000000   \n",
       "50%                  0.000000                  0.000000              0.000000   \n",
       "75%                  0.000000                  0.000000              0.000000   \n",
       "max                  1.000000                  1.000000              1.000000   \n",
       "\n",
       "       Team_Utah Jazz  Team_Washington Bullets  Team_Washington Wizards  \n",
       "count      259.000000               259.000000               259.000000  \n",
       "mean         0.038610                 0.015444                 0.034749  \n",
       "std          0.193037                 0.123549                 0.183498  \n",
       "min          0.000000                 0.000000                 0.000000  \n",
       "25%          0.000000                 0.000000                 0.000000  \n",
       "50%          0.000000                 0.000000                 0.000000  \n",
       "75%          0.000000                 0.000000                 0.000000  \n",
       "max          1.000000                 1.000000                 1.000000  \n",
       "\n",
       "[8 rows x 39 columns]"
      ]
     },
     "execution_count": 391,
     "metadata": {},
     "output_type": "execute_result"
    }
   ],
   "source": [
    "dataNBA = pd.concat((dataNBA_numerical, dataNBA_nonbinary, dataNBA[binary_columns]), axis = 1)\n",
    "dataNBA.describe()"
   ]
  },
  {
   "cell_type": "code",
   "execution_count": 392,
   "metadata": {
    "collapsed": true
   },
   "outputs": [],
   "source": [
    "dataNBA['Position'] = dataNBA.Position.astype(int)"
   ]
  },
  {
   "cell_type": "markdown",
   "metadata": {},
   "source": [
    "# X и y"
   ]
  },
  {
   "cell_type": "code",
   "execution_count": 393,
   "metadata": {},
   "outputs": [
    {
     "data": {
      "text/plain": [
       "Index(['Age', 'Height', 'Weight', 'Seasons in league', 'Team_Atlanta Hawks',\n",
       "       'Team_Boston Celtics', 'Team_Brooklyn Nets', 'Team_Charlotte Bobcats',\n",
       "       'Team_Charlotte Hornets', 'Team_Chicago Bulls',\n",
       "       'Team_Cleveland Cavaliers', 'Team_Dallas Mavericks',\n",
       "       'Team_Denver Nuggets', 'Team_Detroit Pistons',\n",
       "       'Team_Golden State Warriors', 'Team_Houston Rockets',\n",
       "       'Team_Indiana Pacers', 'Team_Los Angeles Clippers',\n",
       "       'Team_Los Angeles Lakers', 'Team_Memphis Grizzlies', 'Team_Miami Heat',\n",
       "       'Team_Milwaukee Bucks', 'Team_Minnesota Timberwolves',\n",
       "       'Team_New Jersey Nets', 'Team_New Orleans Hornets',\n",
       "       'Team_New Orleans Pelicans', 'Team_New York Knicks',\n",
       "       'Team_Oklahoma City Thunder', 'Team_Orlando Magic',\n",
       "       'Team_Philadelphia Sixers', 'Team_Phoenix Suns',\n",
       "       'Team_Portland Trail Blazers', 'Team_Sacramento Kings',\n",
       "       'Team_San Antonio Spurs', 'Team_Seattle SuperSonics',\n",
       "       'Team_Toronto Raptors', 'Team_Utah Jazz', 'Team_Washington Bullets',\n",
       "       'Team_Washington Wizards'],\n",
       "      dtype='object')"
      ]
     },
     "execution_count": 393,
     "metadata": {},
     "output_type": "execute_result"
    }
   ],
   "source": [
    "# Выкинем столбец 'Position'\n",
    "X = dataNBA.drop(('Position'), axis = 1)\n",
    "y = dataNBA['Position']\n",
    "feature_names = X.columns\n",
    "feature_names"
   ]
  },
  {
   "cell_type": "code",
   "execution_count": 394,
   "metadata": {},
   "outputs": [
    {
     "name": "stdout",
     "output_type": "stream",
     "text": [
      "(259, 39)\n",
      "(259,)\n"
     ]
    }
   ],
   "source": [
    "print(X.shape)\n",
    "print(y.shape)\n",
    "N, d = X.shape"
   ]
  },
  {
   "cell_type": "code",
   "execution_count": 395,
   "metadata": {},
   "outputs": [
    {
     "data": {
      "text/plain": [
       "pandas.core.frame.DataFrame"
      ]
     },
     "execution_count": 395,
     "metadata": {},
     "output_type": "execute_result"
    }
   ],
   "source": [
    "type(X)"
   ]
  },
  {
   "cell_type": "code",
   "execution_count": 396,
   "metadata": {},
   "outputs": [
    {
     "data": {
      "text/plain": [
       "pandas.core.series.Series"
      ]
     },
     "execution_count": 396,
     "metadata": {},
     "output_type": "execute_result"
    }
   ],
   "source": [
    "type(y)"
   ]
  },
  {
   "cell_type": "code",
   "execution_count": 397,
   "metadata": {},
   "outputs": [
    {
     "name": "stdout",
     "output_type": "stream",
     "text": [
      "181 78\n"
     ]
    }
   ],
   "source": [
    "from sklearn.model_selection import train_test_split\n",
    "X_train, X_test, y_train, y_test = train_test_split(X, y, test_size = 0.3, random_state = 42)\n",
    "\n",
    "N_train, _ = X_train.shape \n",
    "N_test,  _ = X_test.shape \n",
    "\n",
    "print(N_train, N_test)"
   ]
  },
  {
   "cell_type": "code",
   "execution_count": 398,
   "metadata": {},
   "outputs": [
    {
     "data": {
      "text/plain": [
       "259"
      ]
     },
     "execution_count": 398,
     "metadata": {},
     "output_type": "execute_result"
    }
   ],
   "source": [
    "181 + 78"
   ]
  },
  {
   "cell_type": "markdown",
   "metadata": {},
   "source": [
    "#  KNN"
   ]
  },
  {
   "cell_type": "code",
   "execution_count": 399,
   "metadata": {},
   "outputs": [
    {
     "data": {
      "text/plain": [
       "KNeighborsClassifier(algorithm='auto', leaf_size=30, metric='minkowski',\n",
       "           metric_params=None, n_jobs=1, n_neighbors=10, p=2,\n",
       "           weights='uniform')"
      ]
     },
     "execution_count": 399,
     "metadata": {},
     "output_type": "execute_result"
    }
   ],
   "source": [
    "from sklearn.neighbors import KNeighborsClassifier\n",
    "\n",
    "knn = KNeighborsClassifier(n_neighbors = 10)\n",
    "#knn.set_params(n_neighbors=10)\n",
    "knn.fit(X_train, y_train)"
   ]
  },
  {
   "cell_type": "code",
   "execution_count": 400,
   "metadata": {},
   "outputs": [
    {
     "name": "stdout",
     "output_type": "stream",
     "text": [
      "0.0497237569061 0.153846153846\n"
     ]
    }
   ],
   "source": [
    "y_train_predict = knn.predict(X_train)\n",
    "y_test_predict = knn.predict(X_test)\n",
    "\n",
    "err_train = np.mean(y_train != y_train_predict)\n",
    "err_test  = np.mean(y_test  != y_test_predict)\n",
    "\n",
    "print(err_train, err_test)"
   ]
  },
  {
   "cell_type": "code",
   "execution_count": 401,
   "metadata": {},
   "outputs": [
    {
     "data": {
      "text/plain": [
       "0.15384615384615385"
      ]
     },
     "execution_count": 401,
     "metadata": {},
     "output_type": "execute_result"
    }
   ],
   "source": [
    "err_test = 1 - knn.score(X_test, y_test)\n",
    "err_test"
   ]
  },
  {
   "cell_type": "code",
   "execution_count": 402,
   "metadata": {},
   "outputs": [
    {
     "name": "stdout",
     "output_type": "stream",
     "text": [
      "[[28  5]\n",
      " [ 7 38]]\n"
     ]
    }
   ],
   "source": [
    "from sklearn.metrics import confusion_matrix\n",
    "\n",
    "print(confusion_matrix(y_test, y_test_predict))"
   ]
  },
  {
   "cell_type": "code",
   "execution_count": 403,
   "metadata": {},
   "outputs": [
    {
     "data": {
      "text/plain": [
       "array([[3, 0],\n",
       "       [1, 1]], dtype=int64)"
      ]
     },
     "execution_count": 403,
     "metadata": {},
     "output_type": "execute_result"
    }
   ],
   "source": [
    "confusion_matrix([0,1,0,1,0], [0,1,0,0,0])"
   ]
  },
  {
   "cell_type": "markdown",
   "metadata": {},
   "source": [
    "### Подбор оптимального кол-ва соседей для метода"
   ]
  },
  {
   "cell_type": "code",
   "execution_count": 404,
   "metadata": {},
   "outputs": [
    {
     "name": "stdout",
     "output_type": "stream",
     "text": [
      "лучшая ошибка 0.0497237569061\n",
      "лучшее кол-во соседей из представленных -  25\n"
     ]
    }
   ],
   "source": [
    "from sklearn.model_selection import GridSearchCV\n",
    "nnb = [1, 3, 5, 10, 15, 20, 25, 35, 45, 55]\n",
    "knn = KNeighborsClassifier()\n",
    "grid = GridSearchCV(knn, param_grid = {'n_neighbors': nnb}, cv=10)\n",
    "grid.fit(X_train, y_train)\n",
    "\n",
    "best_cv_err = 1 - grid.best_score_\n",
    "best_n_neighbors = grid.best_estimator_.n_neighbors\n",
    "print('лучшая ошибка',best_cv_err)\n",
    "print('лучшее кол-во соседей из представленных - ',best_n_neighbors)"
   ]
  },
  {
   "cell_type": "code",
   "execution_count": 406,
   "metadata": {},
   "outputs": [
    {
     "name": "stdout",
     "output_type": "stream",
     "text": [
      "0.0552486187845 0.0769230769231\n"
     ]
    }
   ],
   "source": [
    "knn = KNeighborsClassifier(n_neighbors = best_n_neighbors).fit(X_train, y_train)\n",
    "\n",
    "err_train = np.mean(y_train != knn.predict(X_train))\n",
    "err_test  = np.mean(y_test  != knn.predict(X_test))\n",
    "\n",
    "print(err_train, err_test)"
   ]
  },
  {
   "cell_type": "markdown",
   "metadata": {},
   "source": [
    "Было : 0.153846153846 (при n_neighbors = 10)"
   ]
  },
  {
   "cell_type": "markdown",
   "metadata": {},
   "source": [
    "Стало : 0.0769230769231 (при n_neighbors = 25)"
   ]
  },
  {
   "cell_type": "markdown",
   "metadata": {},
   "source": [
    " "
   ]
  },
  {
   "cell_type": "markdown",
   "metadata": {},
   "source": [
    " "
   ]
  },
  {
   "cell_type": "markdown",
   "metadata": {},
   "source": [
    "# Multilayer perceptron (MLP)"
   ]
  },
  {
   "cell_type": "markdown",
   "metadata": {},
   "source": [
    "Разделим входные данные на обучающую и тестовую выборки "
   ]
  },
  {
   "cell_type": "code",
   "execution_count": 653,
   "metadata": {
    "collapsed": true
   },
   "outputs": [],
   "source": [
    "from sklearn.model_selection import train_test_split\n",
    "x_train, x_test, y_train, y_test = train_test_split(X, y, test_size=0.2)"
   ]
  },
  {
   "cell_type": "markdown",
   "metadata": {},
   "source": [
    "Создадим классификатор с одним скрытым слоем размерностью 10 и активационной функцией logistic "
   ]
  },
  {
   "cell_type": "code",
   "execution_count": 654,
   "metadata": {
    "collapsed": true
   },
   "outputs": [],
   "source": [
    "from sklearn.neural_network import MLPClassifier\n",
    "\n",
    "perc = MLPClassifier(hidden_layer_sizes=(10,))\n",
    "perc.activation='logistic'\n",
    "perc.max_iter=10000000"
   ]
  },
  {
   "cell_type": "markdown",
   "metadata": {},
   "source": [
    "Обучим классификатор, получены значения y_pred для проверки на тестовой выборке"
   ]
  },
  {
   "cell_type": "code",
   "execution_count": 655,
   "metadata": {
    "collapsed": true
   },
   "outputs": [],
   "source": [
    "perc=perc.fit(x_train, y_train)"
   ]
  },
  {
   "cell_type": "code",
   "execution_count": 656,
   "metadata": {
    "collapsed": true
   },
   "outputs": [],
   "source": [
    "y_pred = perc.predict(x_test)"
   ]
  },
  {
   "cell_type": "markdown",
   "metadata": {},
   "source": [
    "### Проверяем качество классификатора  "
   ]
  },
  {
   "cell_type": "code",
   "execution_count": 658,
   "metadata": {
    "scrolled": true
   },
   "outputs": [
    {
     "name": "stdout",
     "output_type": "stream",
     "text": [
      "337     0\n",
      "163     0\n",
      "488     1\n",
      "777     0\n",
      "1039    0\n",
      "11      0\n",
      "759     1\n",
      "176     1\n",
      "976     1\n",
      "611     0\n",
      "693     1\n",
      "46      1\n",
      "718     1\n",
      "185     1\n",
      "334     0\n",
      "486     1\n",
      "1014    0\n",
      "244     0\n",
      "190     0\n",
      "15      1\n",
      "403     1\n",
      "432     1\n",
      "65      1\n",
      "302     0\n",
      "542     1\n",
      "3       1\n",
      "24      1\n",
      "104     1\n",
      "263     1\n",
      "727     0\n",
      "483     1\n",
      "1101    0\n",
      "6       0\n",
      "319     0\n",
      "512     0\n",
      "198     1\n",
      "420     1\n",
      "910     1\n",
      "138     0\n",
      "471     1\n",
      "841     0\n",
      "235     0\n",
      "39      0\n",
      "44      1\n",
      "129     0\n",
      "913     1\n",
      "43      1\n",
      "1100    1\n",
      "469     1\n",
      "162     1\n",
      "1099    1\n",
      "153     0\n",
      "Name: Position, dtype: int32\n"
     ]
    }
   ],
   "source": [
    "# Посмотрим тестовую выборку y\n",
    "print(y_test)"
   ]
  },
  {
   "cell_type": "markdown",
   "metadata": {},
   "source": [
    "Выведем выборку с предсказанием. Cоздадим масссив y_matched,куда положим угаданные нейронной сетью позиции игроков."
   ]
  },
  {
   "cell_type": "code",
   "execution_count": 659,
   "metadata": {},
   "outputs": [
    {
     "name": "stdout",
     "output_type": "stream",
     "text": [
      "[0 0 1 0 0 0 1 1 1 0 1 1 1 1 0 1 0 0 0 1 1 1 1 0 1 1 1 1 1 0 1 0 0 0 0 1 1\n",
      " 1 0 0 0 0 0 1 0 1 1 1 1 0 1 0]\n",
      "(52,)\n"
     ]
    }
   ],
   "source": [
    "print(y_pred)\n",
    "print(y_test.shape)\n",
    "y_matched = []\n",
    "y_matched.append(y_pred==y_test)"
   ]
  },
  {
   "cell_type": "code",
   "execution_count": 660,
   "metadata": {},
   "outputs": [
    {
     "name": "stdout",
     "output_type": "stream",
     "text": [
      "0.0384615384615\n"
     ]
    }
   ],
   "source": [
    "print(1 - perc.score(x_test, y_test))"
   ]
  },
  {
   "cell_type": "markdown",
   "metadata": {},
   "source": [
    "Как видно из результата ошибка составила 3,84% (кол-во записей в тестовой выборке = 52)"
   ]
  },
  {
   "cell_type": "code",
   "execution_count": 661,
   "metadata": {},
   "outputs": [
    {
     "name": "stdout",
     "output_type": "stream",
     "text": [
      "[[22  2]\n",
      " [ 0 28]]\n"
     ]
    }
   ],
   "source": [
    "# Выведем марицу неточностей(confusion matrix)\n",
    "from sklearn.metrics import confusion_matrix\n",
    "print(confusion_matrix(y_pred, y_test))"
   ]
  },
  {
   "cell_type": "markdown",
   "metadata": {},
   "source": [
    " Как видно из матрицы диагональные элементы явно выражены, значит в целом классификатор определяет решения верно."
   ]
  },
  {
   "cell_type": "code",
   "execution_count": 662,
   "metadata": {},
   "outputs": [
    {
     "data": {
      "image/png": "[encoded data removed]",
      "text/plain": [
       "<matplotlib.figure.Figure at 0x1907a029dd8>"
      ]
     },
     "metadata": {},
     "output_type": "display_data"
    }
   ],
   "source": [
    "M = confusion_matrix(y_test, y_pred)\n",
    "M = np.sqrt(M)\n",
    "plt.imshow(M, interpolation = 'nearest')\n",
    "plt.set_cmap('binary')\n",
    "plt.grid(False)\n",
    "plt.xticks(range(len(M[0])))\n",
    "plt.yticks(range(len(M)))\n",
    "plt.xlabel(\"predicted label\")\n",
    "plt.ylabel(\"true label\")\n",
    "plt.colorbar()\n",
    "pass"
   ]
  },
  {
   "cell_type": "markdown",
   "metadata": {},
   "source": [
    "К сожалению,в связи с тем,что кол-во записей в датасете после обработке невелико мы имеем маленькую матрицу неточностей и по ней можно сделать не так много выводов"
   ]
  },
  {
   "cell_type": "markdown",
   "metadata": {},
   "source": [
    "# Подбор гиперпараметров"
   ]
  },
  {
   "cell_type": "markdown",
   "metadata": {},
   "source": [
    " Теперь попробуем классификатор с большим числом параметров"
   ]
  },
  {
   "cell_type": "code",
   "execution_count": 663,
   "metadata": {
    "collapsed": true
   },
   "outputs": [],
   "source": [
    "perc = MLPClassifier(activation='logistic', alpha=0.0001, batch_size='auto',\n",
    "       beta_1=0.9, beta_2=0.999, early_stopping=False, epsilon=1e-08,\n",
    "       hidden_layer_sizes=(100,), learning_rate='constant',\n",
    "       learning_rate_init=0.001, max_iter=200, momentum=0.9,\n",
    "       nesterovs_momentum=True, power_t=0.5, random_state=42, shuffle=True,\n",
    "       solver='lbfgs', tol=0.0001, validation_fraction=0.1, verbose=False,\n",
    "       warm_start=False)"
   ]
  },
  {
   "cell_type": "code",
   "execution_count": 664,
   "metadata": {},
   "outputs": [
    {
     "name": "stdout",
     "output_type": "stream",
     "text": [
      "[337     False\n",
      "163      True\n",
      "488      True\n",
      "777      True\n",
      "1039     True\n",
      "11      False\n",
      "759      True\n",
      "176      True\n",
      "976      True\n",
      "611      True\n",
      "693      True\n",
      "46      False\n",
      "718      True\n",
      "185      True\n",
      "334      True\n",
      "486      True\n",
      "1014     True\n",
      "244      True\n",
      "190      True\n",
      "15       True\n",
      "403      True\n",
      "432      True\n",
      "65       True\n",
      "302      True\n",
      "542      True\n",
      "3        True\n",
      "24       True\n",
      "104     False\n",
      "263      True\n",
      "727      True\n",
      "483      True\n",
      "1101     True\n",
      "6        True\n",
      "319      True\n",
      "512     False\n",
      "198      True\n",
      "420      True\n",
      "910      True\n",
      "138      True\n",
      "471     False\n",
      "841      True\n",
      "235      True\n",
      "39       True\n",
      "44       True\n",
      "129      True\n",
      "913      True\n",
      "43       True\n",
      "1100     True\n",
      "469     False\n",
      "162      True\n",
      "1099     True\n",
      "153      True\n",
      "Name: Position, dtype: bool]\n",
      "0.134615384615\n"
     ]
    }
   ],
   "source": [
    "perc=perc.fit(x_train, y_train)\n",
    "y_pred = perc.predict(x_test)\n",
    "yy = []\n",
    "yy.append(y_pred==y_test)\n",
    "print(yy)\n",
    "print(1 - perc.score(x_test, y_test))"
   ]
  },
  {
   "cell_type": "markdown",
   "metadata": {},
   "source": [
    "Теперь шибка значительно увеличилась и составляет 13,5% вместо прежних 3,84%"
   ]
  },
  {
   "cell_type": "markdown",
   "metadata": {},
   "source": [
    "### Подберем оптимальное значение параметра регуляризации alpha"
   ]
  },
  {
   "cell_type": "code",
   "execution_count": 665,
   "metadata": {
    "collapsed": true
   },
   "outputs": [],
   "source": [
    "alpha_arr = np.logspace(-3, 2, 21)\n",
    "test_err = []\n",
    "train_err = []\n",
    "for alpha in alpha_arr:\n",
    "    perc = MLPClassifier(alpha = alpha, hidden_layer_sizes = (100,), \n",
    "                              solver = 'lbfgs', activation = 'logistic', random_state = 42)\n",
    "    perc.fit(x_train, y_train)\n",
    "\n",
    "    y_train_pred = perc.predict(x_train)\n",
    "    y_test_pred = perc.predict(x_test)\n",
    "    train_err.append(np.mean(y_train != y_train_pred))\n",
    "    test_err.append(np.mean(y_test != y_test_pred))"
   ]
  },
  {
   "cell_type": "code",
   "execution_count": 666,
   "metadata": {},
   "outputs": [
    {
     "data": {
      "image/png": "[encoded data removed]",
      "text/plain": [
       "<matplotlib.figure.Figure at 0x190021e24e0>"
      ]
     },
     "metadata": {},
     "output_type": "display_data"
    }
   ],
   "source": [
    "plt.semilogx(alpha_arr, train_err, 'b-o', label = 'test')\n",
    "plt.semilogx(alpha_arr, test_err, 'r-o', label = 'train')\n",
    "plt.xlim([np.max(alpha_arr), np.min(alpha_arr)])\n",
    "plt.title('Error vs. alpha')\n",
    "plt.xlabel('alpha')\n",
    "plt.ylabel('error')\n",
    "plt.legend()\n",
    "pass"
   ]
  },
  {
   "cell_type": "markdown",
   "metadata": {},
   "source": [
    "Видно,что ошибка на тестовой выборке растёт для alpha с 0.1. При alpha > 1.5 наблюдается переобучение"
   ]
  },
  {
   "cell_type": "markdown",
   "metadata": {},
   "source": [
    "Выведем минимальное значение ошибки:"
   ]
  },
  {
   "cell_type": "code",
   "execution_count": 667,
   "metadata": {},
   "outputs": [
    {
     "name": "stdout",
     "output_type": "stream",
     "text": [
      "0.0 0.0384615384615\n"
     ]
    }
   ],
   "source": [
    "min_train_err = np.min(train_err)\n",
    "min_test_err = np.min(test_err)\n",
    "print(min_train_err, min_test_err)"
   ]
  },
  {
   "cell_type": "markdown",
   "metadata": {
    "collapsed": true
   },
   "source": [
    "Выведем оптимальное значение alpha:"
   ]
  },
  {
   "cell_type": "code",
   "execution_count": 668,
   "metadata": {},
   "outputs": [
    {
     "name": "stdout",
     "output_type": "stream",
     "text": [
      "[  1.77827941   3.16227766   5.62341325  17.7827941 ]\n"
     ]
    }
   ],
   "source": [
    "alpha_opt = alpha_arr[test_err == min_test_err]\n",
    "print(alpha_opt)"
   ]
  },
  {
   "cell_type": "code",
   "execution_count": 669,
   "metadata": {},
   "outputs": [
    {
     "name": "stdout",
     "output_type": "stream",
     "text": [
      "1.77827941004\n"
     ]
    }
   ],
   "source": [
    "alpha_opt = alpha_opt[0]\n",
    "print(alpha_opt)   "
   ]
  },
  {
   "cell_type": "markdown",
   "metadata": {},
   "source": [
    "###  Классификатор при найденном оптимальном значении alpha:"
   ]
  },
  {
   "cell_type": "markdown",
   "metadata": {},
   "source": [
    "Повторим обучение:"
   ]
  },
  {
   "cell_type": "code",
   "execution_count": 670,
   "metadata": {},
   "outputs": [
    {
     "name": "stdout",
     "output_type": "stream",
     "text": [
      "0.0531400966184\n",
      "0.0384615384615\n"
     ]
    }
   ],
   "source": [
    "perc = MLPClassifier(alpha = alpha_opt, hidden_layer_sizes = (100,),\n",
    "                          solver = 'lbfgs', activation = 'logistic', random_state = 42)\n",
    "perc.fit(x_train, y_train)\n",
    "\n",
    "y_train_pred = perc.predict(x_train)\n",
    "y_test_pred = perc.predict(x_test)\n",
    "print(np.mean(y_train != y_train_pred))\n",
    "print(np.mean(y_test != y_test_pred))"
   ]
  },
  {
   "cell_type": "markdown",
   "metadata": {},
   "source": [
    "###  Матрица рассогласования:"
   ]
  },
  {
   "cell_type": "code",
   "execution_count": 671,
   "metadata": {},
   "outputs": [
    {
     "name": "stdout",
     "output_type": "stream",
     "text": [
      "[[22  2]\n",
      " [ 0 28]]\n"
     ]
    }
   ],
   "source": [
    "from sklearn.metrics import confusion_matrix\n",
    "print(confusion_matrix(y_test_pred, y_test))"
   ]
  },
  {
   "cell_type": "markdown",
   "metadata": {},
   "source": [
    "Пусть матрица и небольшая,но всё же видно,что диагональные элементы явно выражены, значит в целом классификатор определяет решения верно. \n",
    "Результат немного улучшается в лучшую сторону по сравнению с прошлой матрицей рассогласования, выведенной при использовании не оптимального альфа значения у прошлого классификатора."
   ]
  },
  {
   "cell_type": "code",
   "execution_count": 672,
   "metadata": {},
   "outputs": [
    {
     "data": {
      "image/png": "[encoded data removed]",
      "text/plain": [
       "<matplotlib.figure.Figure at 0x1900140e710>"
      ]
     },
     "metadata": {},
     "output_type": "display_data"
    }
   ],
   "source": [
    "M = confusion_matrix(y_test_pred, y_test)\n",
    "M = np.sqrt(M)\n",
    "plt.imshow(M, interpolation = 'nearest')\n",
    "plt.set_cmap('binary')\n",
    "plt.xticks(range(2))\n",
    "plt.yticks(range(2))\n",
    "plt.xlabel(\"true label\")\n",
    "plt.ylabel(\"predicted label\")\n",
    "plt.colorbar()\n",
    "pass"
   ]
  },
  {
   "cell_type": "code",
   "execution_count": 673,
   "metadata": {},
   "outputs": [
    {
     "name": "stdout",
     "output_type": "stream",
     "text": [
      "             precision    recall  f1-score   support\n",
      "\n",
      "          0       0.92      1.00      0.96        22\n",
      "          1       1.00      0.93      0.97        30\n",
      "\n",
      "avg / total       0.96      0.96      0.96        52\n",
      "\n"
     ]
    }
   ],
   "source": [
    "from sklearn.metrics import classification_report\n",
    "print(classification_report(y_test, y_test_pred))"
   ]
  },
  {
   "cell_type": "markdown",
   "metadata": {},
   "source": [
    "Видно,что точность определения нападающего немного выше,чем защитника.\n",
    "Следовательно и агрегированная оценка f1-score складываемая из precision recall оценок получается лучше для нападающих "
   ]
  },
  {
   "cell_type": "markdown",
   "metadata": {
    "collapsed": true
   },
   "source": [
    "## Размер слоя"
   ]
  },
  {
   "cell_type": "markdown",
   "metadata": {},
   "source": [
    "Посмотрим зависимость ошибки от количества нейронов"
   ]
  },
  {
   "cell_type": "code",
   "execution_count": 674,
   "metadata": {
    "collapsed": true
   },
   "outputs": [],
   "source": [
    "size_arr = (1, 2, 10, 30, 50, 70, 100, 150, 200, 250, 300, 400, 500, 700, 1000)\n",
    "test_err = []\n",
    "train_err = []\n",
    "for size in size_arr:\n",
    "    mlp_model = MLPClassifier(hidden_layer_sizes = (int(size),), solver = 'lbfgs', activation = 'logistic', random_state = 42)\n",
    "    mlp_model.fit(x_train, y_train)\n",
    "\n",
    "    y_train_pred = mlp_model.predict(x_train)\n",
    "    y_test_pred = mlp_model.predict(x_test)\n",
    "    train_err.append(np.mean(y_train != y_train_pred))\n",
    "    test_err.append(np.mean(y_test != y_test_pred))"
   ]
  },
  {
   "cell_type": "code",
   "execution_count": 675,
   "metadata": {},
   "outputs": [
    {
     "data": {
      "image/png": "[encoded data removed]",
      "text/plain": [
       "<matplotlib.figure.Figure at 0x19079f6cf28>"
      ]
     },
     "metadata": {},
     "output_type": "display_data"
    }
   ],
   "source": [
    "plt.semilogx(size_arr, train_err, 'b-o', label = 'train')\n",
    "plt.semilogx(size_arr, test_err, 'r-o', label = 'test')\n",
    "plt.xlim([np.max(size_arr), np.min(size_arr)])\n",
    "plt.title('Error vs. numbers of neirons')\n",
    "plt.xlabel('number')\n",
    "plt.ylabel('error')\n",
    "plt.legend()\n",
    "pass  "
   ]
  },
  {
   "cell_type": "markdown",
   "metadata": {},
   "source": [
    "При размере слоя начиная с 70 ошибки для тестовой выборки колеблется от ~9% до ~14%. Везде наблюдаем переобучение"
   ]
  },
  {
   "cell_type": "markdown",
   "metadata": {
    "collapsed": true
   },
   "source": [
    " "
   ]
  },
  {
   "cell_type": "markdown",
   "metadata": {
    "collapsed": true
   },
   "source": [
    " "
   ]
  },
  {
   "cell_type": "markdown",
   "metadata": {
    "collapsed": true
   },
   "source": [
    " "
   ]
  },
  {
   "cell_type": "markdown",
   "metadata": {
    "collapsed": true
   },
   "source": [
    " "
   ]
  },
  {
   "cell_type": "markdown",
   "metadata": {
    "collapsed": true
   },
   "source": [
    " "
   ]
  },
  {
   "cell_type": "markdown",
   "metadata": {
    "collapsed": true
   },
   "source": [
    " "
   ]
  },
  {
   "cell_type": "markdown",
   "metadata": {},
   "source": [
    "# 3 задание (TREES)"
   ]
  },
  {
   "cell_type": "markdown",
   "metadata": {},
   "source": [
    "### Random forest"
   ]
  },
  {
   "cell_type": "markdown",
   "metadata": {},
   "source": [
    "Разделим входные данные на обучающюу и тестовую выборки"
   ]
  },
  {
   "cell_type": "code",
   "execution_count": 676,
   "metadata": {
    "collapsed": true
   },
   "outputs": [],
   "source": [
    "from sklearn.model_selection import train_test_split\n",
    "X_train, X_test, y_train, y_test = train_test_split(X, y, test_size = 0.3, random_state = 42)"
   ]
  },
  {
   "cell_type": "markdown",
   "metadata": {},
   "source": [
    "Обучаем классификатор вида Random Forest. Число деревьев = 4"
   ]
  },
  {
   "cell_type": "code",
   "execution_count": 677,
   "metadata": {},
   "outputs": [
    {
     "data": {
      "text/plain": [
       "RandomForestClassifier(bootstrap=True, class_weight=None, criterion='gini',\n",
       "            max_depth=None, max_features='auto', max_leaf_nodes=None,\n",
       "            min_impurity_decrease=0.0, min_impurity_split=None,\n",
       "            min_samples_leaf=1, min_samples_split=2,\n",
       "            min_weight_fraction_leaf=0.0, n_estimators=4, n_jobs=1,\n",
       "            oob_score=False, random_state=None, verbose=0,\n",
       "            warm_start=False)"
      ]
     },
     "execution_count": 677,
     "metadata": {},
     "output_type": "execute_result"
    }
   ],
   "source": [
    "from sklearn import ensemble\n",
    "rf_model = ensemble.RandomForestClassifier(n_estimators = 4)\n",
    "rf_model.fit(X_train, y_train)"
   ]
  },
  {
   "cell_type": "markdown",
   "metadata": {},
   "source": [
    "Посчитаем и выведем ошибку на обучающей выборке"
   ]
  },
  {
   "cell_type": "code",
   "execution_count": 678,
   "metadata": {},
   "outputs": [
    {
     "name": "stdout",
     "output_type": "stream",
     "text": [
      "0.0165745856354\n"
     ]
    }
   ],
   "source": [
    "err_train = np.mean(y_train != rf_model.predict(X_train))\n",
    "print(err_train)"
   ]
  },
  {
   "cell_type": "markdown",
   "metadata": {},
   "source": [
    "Посчитаем и выведем ошибку на тестовой выборке"
   ]
  },
  {
   "cell_type": "code",
   "execution_count": 679,
   "metadata": {},
   "outputs": [
    {
     "name": "stdout",
     "output_type": "stream",
     "text": [
      "0.141025641026\n"
     ]
    }
   ],
   "source": [
    "err_test  = np.mean(y_test  != rf_model.predict(X_test))\n",
    "print(err_test)"
   ]
  },
  {
   "cell_type": "markdown",
   "metadata": {},
   "source": [
    "На обучающей выборке ошибка составила 1,6%, что пока что самый лучший достигнутый результат из всех алгоритмов,НО! на тестовой выборке ошибка составила целых 14,1% (худший показатель среди используемых методов). Так как ошибка на обучающей выборке существенно меньше, чем на тестовой, наблюдается переобучение. Посмотрим зависимость ошибки от количества деревьев."
   ]
  },
  {
   "cell_type": "code",
   "execution_count": 680,
   "metadata": {
    "collapsed": true
   },
   "outputs": [],
   "source": [
    "from sklearn import ensemble\n",
    "size_arr = np.arange(10,500,10)\n",
    "test_err = []\n",
    "train_err = []\n",
    "for size in size_arr:\n",
    "    rf_model = ensemble.RandomForestClassifier(n_estimators = int(size))\n",
    "    rf_model.fit(X_train, y_train)\n",
    "\n",
    "    y_train_pred = rf_model.predict(X_train)\n",
    "    y_test_pred = rf_model.predict(X_test)\n",
    "    train_err.append(np.mean(y_train != y_train_pred))\n",
    "    test_err.append(np.mean(y_test != y_test_pred))"
   ]
  },
  {
   "cell_type": "code",
   "execution_count": 681,
   "metadata": {
    "scrolled": true
   },
   "outputs": [
    {
     "data": {
      "image/png": "[encoded data removed]",
      "text/plain": [
       "<matplotlib.figure.Figure at 0x190012ac518>"
      ]
     },
     "metadata": {},
     "output_type": "display_data"
    }
   ],
   "source": [
    "plt.semilogx(size_arr, train_err, 'b-o', label = 'train')\n",
    "plt.semilogx(size_arr, test_err, 'r-o', label = 'test')\n",
    "plt.xlim([np.max(size_arr), np.min(size_arr)])\n",
    "plt.title('Error vs. numbers of trees')\n",
    "plt.xlabel('tree')\n",
    "plt.ylabel('error')\n",
    "plt.legend()\n",
    "pass"
   ]
  },
  {
   "cell_type": "markdown",
   "metadata": {},
   "source": [
    "Найдем минимальное значение ошибки и количество деревьев, на котором оно достигается"
   ]
  },
  {
   "cell_type": "code",
   "execution_count": 682,
   "metadata": {},
   "outputs": [
    {
     "name": "stdout",
     "output_type": "stream",
     "text": [
      "0.00552486187845 0.0769230769231\n"
     ]
    }
   ],
   "source": [
    "min_train_err = np.min(train_err)\n",
    "min_test_err = np.min(test_err)\n",
    "print(min_train_err, min_test_err)"
   ]
  },
  {
   "cell_type": "code",
   "execution_count": 683,
   "metadata": {},
   "outputs": [
    {
     "name": "stdout",
     "output_type": "stream",
     "text": [
      "10\n"
     ]
    }
   ],
   "source": [
    "trees_opt = size_arr[test_err == min_test_err]\n",
    "trees_opt = trees_opt[0]\n",
    "print(trees_opt)"
   ]
  },
  {
   "cell_type": "markdown",
   "metadata": {},
   "source": [
    "Из графика следует, что начиная с примерно 50 деревьев ошибка на тестовой выборке остается в пределах 7-13% не улучшаясь."
   ]
  },
  {
   "cell_type": "markdown",
   "metadata": {},
   "source": [
    " "
   ]
  },
  {
   "cell_type": "markdown",
   "metadata": {},
   "source": [
    " "
   ]
  },
  {
   "cell_type": "markdown",
   "metadata": {},
   "source": [
    " "
   ]
  },
  {
   "cell_type": "markdown",
   "metadata": {},
   "source": [
    " "
   ]
  },
  {
   "cell_type": "markdown",
   "metadata": {},
   "source": [
    " "
   ]
  },
  {
   "cell_type": "markdown",
   "metadata": {},
   "source": [
    "# Extremely Random Forests"
   ]
  },
  {
   "cell_type": "markdown",
   "metadata": {},
   "source": [
    "Обучим классификатор вида Extremely Randomized Trees."
   ]
  },
  {
   "cell_type": "code",
   "execution_count": 691,
   "metadata": {},
   "outputs": [
    {
     "data": {
      "text/plain": [
       "ExtraTreesClassifier(bootstrap=False, class_weight=None, criterion='gini',\n",
       "           max_depth=None, max_features='auto', max_leaf_nodes=None,\n",
       "           min_impurity_decrease=0.0, min_impurity_split=None,\n",
       "           min_samples_leaf=1, min_samples_split=2,\n",
       "           min_weight_fraction_leaf=0.0, n_estimators=1, n_jobs=1,\n",
       "           oob_score=False, random_state=None, verbose=0, warm_start=False)"
      ]
     },
     "execution_count": 691,
     "metadata": {},
     "output_type": "execute_result"
    }
   ],
   "source": [
    "ert_model = ensemble.ExtraTreesClassifier(n_estimators = 1)\n",
    "ert_model.fit(X_train, y_train)"
   ]
  },
  {
   "cell_type": "markdown",
   "metadata": {},
   "source": [
    "Посчитаем и выведем ошибку на обучающей выборке"
   ]
  },
  {
   "cell_type": "code",
   "execution_count": 692,
   "metadata": {},
   "outputs": [
    {
     "name": "stdout",
     "output_type": "stream",
     "text": [
      "0.00552486187845\n"
     ]
    }
   ],
   "source": [
    "err_train = np.mean(y_train != rf_model.predict(X_train))\n",
    "print(err_train)"
   ]
  },
  {
   "cell_type": "markdown",
   "metadata": {},
   "source": [
    "Посчитаем и выведем ошибку на тестовой выборке"
   ]
  },
  {
   "cell_type": "code",
   "execution_count": 693,
   "metadata": {},
   "outputs": [
    {
     "name": "stdout",
     "output_type": "stream",
     "text": [
      "0.192307692308\n"
     ]
    }
   ],
   "source": [
    "err_test  = np.mean(y_test  != ert_model.predict(X_test))\n",
    "print(err_test)"
   ]
  },
  {
   "cell_type": "markdown",
   "metadata": {},
   "source": [
    " На данном дереве наблюдается эффект сильного переобучения, так как на тестовой выборке мы видим результат сильно хуже, чем на обучающей.Попробуем посмотреть зависимость ошибки от количества деревьев"
   ]
  },
  {
   "cell_type": "code",
   "execution_count": 694,
   "metadata": {
    "collapsed": true
   },
   "outputs": [],
   "source": [
    "size_arr = np.arange(10,500,10)\n",
    "test_err = []\n",
    "train_err = []\n",
    "for size in size_arr:\n",
    "    ert_model = ensemble.ExtraTreesClassifier(n_estimators = int(size))\n",
    "    ert_model.fit(X_train, y_train)\n",
    "\n",
    "    y_train_pred = ert_model.predict(X_train)\n",
    "    y_test_pred = ert_model.predict(X_test)\n",
    "    train_err.append(np.mean(y_train != y_train_pred))\n",
    "    test_err.append(np.mean(y_test != y_test_pred))"
   ]
  },
  {
   "cell_type": "code",
   "execution_count": 695,
   "metadata": {},
   "outputs": [
    {
     "data": {
      "image/png": "[encoded data removed]",
      "text/plain": [
       "<matplotlib.figure.Figure at 0x190022eac50>"
      ]
     },
     "metadata": {},
     "output_type": "display_data"
    }
   ],
   "source": [
    "plt.semilogx(size_arr, train_err, 'b-o', label = 'train')\n",
    "plt.semilogx(size_arr, test_err, 'r-o', label = 'test')\n",
    "plt.xlim([np.max(size_arr), np.min(size_arr)])\n",
    "plt.title('Error vs. numbers of trees')\n",
    "plt.xlabel('tree')\n",
    "plt.ylabel('error')\n",
    "plt.legend()\n",
    "pass"
   ]
  },
  {
   "cell_type": "markdown",
   "metadata": {},
   "source": [
    "Найдем минимальное значение ошибки и количество деревьев, на котором оно достигается"
   ]
  },
  {
   "cell_type": "code",
   "execution_count": 696,
   "metadata": {},
   "outputs": [
    {
     "name": "stdout",
     "output_type": "stream",
     "text": [
      "0.00552486187845 0.128205128205\n"
     ]
    }
   ],
   "source": [
    "min_train_err = np.min(train_err)\n",
    "min_test_err = np.min(test_err)\n",
    "print(min_train_err, min_test_err)"
   ]
  },
  {
   "cell_type": "code",
   "execution_count": 697,
   "metadata": {},
   "outputs": [
    {
     "name": "stdout",
     "output_type": "stream",
     "text": [
      "30\n"
     ]
    }
   ],
   "source": [
    "trees_opt = size_arr[test_err == min_test_err]\n",
    "trees_opt = trees_opt[0]\n",
    "print(trees_opt)"
   ]
  },
  {
   "cell_type": "markdown",
   "metadata": {},
   "source": [
    "Из графика следует, что ошибка на обучающей выборке близка к 0 и не зависит от кол-ва деревьев. Но при этом ошибка на тестовой выборке существенно не меняется прмерно с 150 деревьев и колеблется около 19% (немного больше предыдущего алгоритма). Однако лучшее значение ошибки ~12.8%,что сильно хуже результата для пред. алгоритма."
   ]
  },
  {
   "cell_type": "markdown",
   "metadata": {},
   "source": [
    " \n"
   ]
  },
  {
   "cell_type": "markdown",
   "metadata": {},
   "source": [
    " \n"
   ]
  },
  {
   "cell_type": "markdown",
   "metadata": {},
   "source": [
    " \n"
   ]
  },
  {
   "cell_type": "markdown",
   "metadata": {},
   "source": [
    " \n"
   ]
  },
  {
   "cell_type": "markdown",
   "metadata": {},
   "source": [
    "# Ada Boost Classifier"
   ]
  },
  {
   "cell_type": "markdown",
   "metadata": {},
   "source": [
    "Обучаем классификатор вида AdaBoost"
   ]
  },
  {
   "cell_type": "code",
   "execution_count": 698,
   "metadata": {},
   "outputs": [
    {
     "data": {
      "text/plain": [
       "AdaBoostClassifier(algorithm='SAMME.R', base_estimator=None,\n",
       "          learning_rate=1.0, n_estimators=50, random_state=None)"
      ]
     },
     "execution_count": 698,
     "metadata": {},
     "output_type": "execute_result"
    }
   ],
   "source": [
    "ab_model = ensemble.AdaBoostClassifier(n_estimators = 50)\n",
    "ab_model.fit(X_train, y_train)"
   ]
  },
  {
   "cell_type": "markdown",
   "metadata": {},
   "source": [
    "Посчитаем и выведем ошибку на обучающей выборке"
   ]
  },
  {
   "cell_type": "code",
   "execution_count": 699,
   "metadata": {},
   "outputs": [
    {
     "name": "stdout",
     "output_type": "stream",
     "text": [
      "0.00552486187845\n"
     ]
    }
   ],
   "source": [
    "err_train = np.mean(y_train != ab_model.predict(X_train))\n",
    "print(err_train)"
   ]
  },
  {
   "cell_type": "markdown",
   "metadata": {},
   "source": [
    "Посчитаем и выведем ошибку на тестовой выборке"
   ]
  },
  {
   "cell_type": "code",
   "execution_count": 700,
   "metadata": {},
   "outputs": [
    {
     "name": "stdout",
     "output_type": "stream",
     "text": [
      "0.141025641026\n"
     ]
    }
   ],
   "source": [
    "err_test  = np.mean(y_test  != ab_model.predict(X_test))\n",
    "print(err_test)"
   ]
  },
  {
   "cell_type": "markdown",
   "metadata": {},
   "source": [
    "На данном дереве снова наблюдается эффект сильного переобучения, что означает, что классификатор чаще определяет позицию игрока неверно. Снова посмотрим зависимость ошибки от количества деревьев"
   ]
  },
  {
   "cell_type": "code",
   "execution_count": 701,
   "metadata": {
    "collapsed": true
   },
   "outputs": [],
   "source": [
    "size_arr = np.arange(10,500,10)\n",
    "test_err = []\n",
    "train_err = []\n",
    "for size in size_arr:\n",
    "    ada_model = ensemble.AdaBoostClassifier(n_estimators = int(size))\n",
    "    ada_model.fit(X_train, y_train)\n",
    "\n",
    "    y_train_pred = ada_model.predict(X_train)\n",
    "    y_test_pred = ada_model.predict(X_test)\n",
    "    train_err.append(np.mean(y_train != y_train_pred))\n",
    "    test_err.append(np.mean(y_test != y_test_pred))"
   ]
  },
  {
   "cell_type": "code",
   "execution_count": 702,
   "metadata": {},
   "outputs": [
    {
     "data": {
      "image/png": "[encoded data removed]",
      "text/plain": [
       "<matplotlib.figure.Figure at 0x190014d2748>"
      ]
     },
     "metadata": {},
     "output_type": "display_data"
    }
   ],
   "source": [
    "plt.semilogx(size_arr, train_err, 'b-o', label = 'train')\n",
    "plt.semilogx(size_arr, test_err, 'r-o', label = 'test')\n",
    "plt.xlim([np.max(size_arr), np.min(size_arr)])\n",
    "plt.title('Error vs. numbers of trees')\n",
    "plt.xlabel('tree')\n",
    "plt.ylabel('error')\n",
    "plt.legend()\n",
    "pass"
   ]
  },
  {
   "cell_type": "markdown",
   "metadata": {},
   "source": [
    "Найдем минимальное значение ошибки и количество деревьев, на котором оно достигается"
   ]
  },
  {
   "cell_type": "code",
   "execution_count": 703,
   "metadata": {},
   "outputs": [
    {
     "name": "stdout",
     "output_type": "stream",
     "text": [
      "0.00552486187845 0.102564102564\n"
     ]
    }
   ],
   "source": [
    "min_train_err = np.min(train_err)\n",
    "min_test_err = np.min(test_err)\n",
    "print(min_train_err, min_test_err)"
   ]
  },
  {
   "cell_type": "code",
   "execution_count": 704,
   "metadata": {},
   "outputs": [
    {
     "name": "stdout",
     "output_type": "stream",
     "text": [
      "20\n"
     ]
    }
   ],
   "source": [
    "trees_opt = size_arr[test_err == min_test_err]\n",
    "trees_opt = trees_opt[0]\n",
    "print(trees_opt)"
   ]
  },
  {
   "cell_type": "markdown",
   "metadata": {},
   "source": [
    " Из графика следует, что ошибка на обучающей выборке вначале спадает с 2,5% до 0,5% и далее,начиная с 30 деревьев остаётся постоянной. Но при этом ошибка на тестовой выборке начинает заметно расти с 20 деревьев,поднимается до уровня в 14% и далее колеблется около этого значения,что немного лучше чем для Extremely Random Forests. "
   ]
  },
  {
   "cell_type": "markdown",
   "metadata": {},
   "source": [
    " "
   ]
  },
  {
   "cell_type": "markdown",
   "metadata": {},
   "source": [
    " "
   ]
  },
  {
   "cell_type": "markdown",
   "metadata": {},
   "source": [
    " "
   ]
  },
  {
   "cell_type": "markdown",
   "metadata": {},
   "source": [
    "# Gradient Boosting Trees"
   ]
  },
  {
   "cell_type": "markdown",
   "metadata": {},
   "source": [
    "Обучаем классификатор вида Gradient Boosted Trees. Число деревьев = 100"
   ]
  },
  {
   "cell_type": "code",
   "execution_count": 734,
   "metadata": {},
   "outputs": [
    {
     "data": {
      "text/plain": [
       "GradientBoostingClassifier(criterion='friedman_mse', init=None,\n",
       "              learning_rate=0.4, loss='deviance', max_depth=2,\n",
       "              max_features=None, max_leaf_nodes=None,\n",
       "              min_impurity_decrease=0.0, min_impurity_split=None,\n",
       "              min_samples_leaf=1, min_samples_split=2,\n",
       "              min_weight_fraction_leaf=0.0, n_estimators=100,\n",
       "              presort='auto', random_state=None, subsample=1.0, verbose=0,\n",
       "              warm_start=False)"
      ]
     },
     "execution_count": 734,
     "metadata": {},
     "output_type": "execute_result"
    }
   ],
   "source": [
    "gbt_model = ensemble.GradientBoostingClassifier(n_estimators = 100, max_depth = 2, learning_rate= 0.4)\n",
    "gbt_model.fit(X_train, y_train)\n"
   ]
  },
  {
   "cell_type": "markdown",
   "metadata": {},
   "source": [
    "Посчитаем и выведем ошибку на обучающей выборке"
   ]
  },
  {
   "cell_type": "code",
   "execution_count": 735,
   "metadata": {},
   "outputs": [
    {
     "name": "stdout",
     "output_type": "stream",
     "text": [
      "0.00552486187845\n"
     ]
    }
   ],
   "source": [
    "err_train = np.mean(y_train != gbt_model.predict(X_train))\n",
    "print(err_train)"
   ]
  },
  {
   "cell_type": "markdown",
   "metadata": {},
   "source": [
    "Посчитаем и выведем ошибку на тестовой выборке"
   ]
  },
  {
   "cell_type": "code",
   "execution_count": 736,
   "metadata": {},
   "outputs": [
    {
     "name": "stdout",
     "output_type": "stream",
     "text": [
      "0.128205128205\n"
     ]
    }
   ],
   "source": [
    "err_test  = np.mean(y_test  != gbt_model.predict(X_test))\n",
    "print(err_test)"
   ]
  },
  {
   "cell_type": "markdown",
   "metadata": {},
   "source": [
    "На данном дереве опять же наблюдается эффектсильного переобучения.Посмотрим зависимость ошибки от количества деревьев"
   ]
  },
  {
   "cell_type": "code",
   "execution_count": 737,
   "metadata": {
    "collapsed": true
   },
   "outputs": [],
   "source": [
    "size_arr = np.arange(10,500,10)\n",
    "test_err = []\n",
    "train_err = []\n",
    "for size in size_arr:\n",
    "    gbt_model = ensemble.GradientBoostingClassifier(n_estimators = int(size))\n",
    "    gbt_model.fit(X_train, y_train)\n",
    "\n",
    "    y_train_pred = gbt_model.predict(X_train)\n",
    "    y_test_pred = gbt_model.predict(X_test)\n",
    "    train_err.append(np.mean(y_train != y_train_pred))\n",
    "    test_err.append(np.mean(y_test != y_test_pred))"
   ]
  },
  {
   "cell_type": "code",
   "execution_count": 738,
   "metadata": {},
   "outputs": [
    {
     "data": {
      "image/png": "[encoded data removed]",
      "text/plain": [
       "<matplotlib.figure.Figure at 0x1900224c6d8>"
      ]
     },
     "metadata": {},
     "output_type": "display_data"
    }
   ],
   "source": [
    "plt.semilogx(size_arr, train_err, 'b-o', label = 'train')\n",
    "plt.semilogx(size_arr, test_err, 'r-o', label = 'test')\n",
    "plt.xlim([np.max(size_arr), np.min(size_arr)])\n",
    "plt.title('Error vs. numbers of trees')\n",
    "plt.xlabel('tree')\n",
    "plt.ylabel('error')\n",
    "plt.legend()\n",
    "pass"
   ]
  },
  {
   "cell_type": "markdown",
   "metadata": {},
   "source": [
    " Найдем минимальное значение ошибки и количество деревьев, на котором оно достигается"
   ]
  },
  {
   "cell_type": "code",
   "execution_count": 739,
   "metadata": {},
   "outputs": [
    {
     "name": "stdout",
     "output_type": "stream",
     "text": [
      "0.00552486187845 0.0897435897436\n"
     ]
    }
   ],
   "source": [
    "min_train_err = np.min(train_err)\n",
    "min_test_err = np.min(test_err)\n",
    "print(min_train_err, min_test_err)"
   ]
  },
  {
   "cell_type": "code",
   "execution_count": 740,
   "metadata": {},
   "outputs": [
    {
     "name": "stdout",
     "output_type": "stream",
     "text": [
      "10\n"
     ]
    }
   ],
   "source": [
    "trees_opt = size_arr[test_err == min_test_err]\n",
    "trees_opt = trees_opt[0]\n",
    "print(trees_opt)"
   ]
  },
  {
   "cell_type": "markdown",
   "metadata": {},
   "source": [
    "Из графика видно, что ошибка на обучающей выборке вначале спадает с 3% до 0,5% на 30-ти деревьях и далее остаётся постоянной. Отчётливо наблюдается эффект переобучения начиная с 80 деревьев,так как ошибка на тестовой сборке только растёт"
   ]
  },
  {
   "cell_type": "markdown",
   "metadata": {},
   "source": [
    " "
   ]
  },
  {
   "cell_type": "markdown",
   "metadata": {},
   "source": [
    " "
   ]
  },
  {
   "cell_type": "markdown",
   "metadata": {},
   "source": [
    "# 4 Задание(PCA - Principal Components Analysis)"
   ]
  },
  {
   "cell_type": "markdown",
   "metadata": {},
   "source": [
    " Исходные данные до использования PCA:"
   ]
  },
  {
   "cell_type": "code",
   "execution_count": 723,
   "metadata": {},
   "outputs": [
    {
     "data": {
      "text/plain": [
       "(259, 39)"
      ]
     },
     "execution_count": 723,
     "metadata": {},
     "output_type": "execute_result"
    }
   ],
   "source": [
    "X.shape"
   ]
  },
  {
   "cell_type": "markdown",
   "metadata": {},
   "source": [
    " Как видно из вывода исходные данные содержат 39 столбцов. Попробуем уменьшить размерность"
   ]
  },
  {
   "cell_type": "markdown",
   "metadata": {},
   "source": [
    " Разделим входные данные на обучающую и тестовую выборки"
   ]
  },
  {
   "cell_type": "code",
   "execution_count": 724,
   "metadata": {},
   "outputs": [],
   "source": [
    "from sklearn.model_selection import train_test_split\n",
    "X_train, X_test, y_train, y_test = train_test_split(X, y, test_size = 0.3, random_state = 42)"
   ]
  },
  {
   "cell_type": "markdown",
   "metadata": {},
   "source": [
    " Теперь обучим PCA"
   ]
  },
  {
   "cell_type": "code",
   "execution_count": 725,
   "metadata": {
    "collapsed": true
   },
   "outputs": [],
   "source": [
    "from sklearn import decomposition \n",
    "pca = decomposition.PCA(n_components = 10)\n",
    "X_train_reduc = pca.fit_transform(X_train)\n",
    "X_test_reduc = pca.transform(X_test)"
   ]
  },
  {
   "cell_type": "markdown",
   "metadata": {},
   "source": [
    " Обучим классификатор вида Gradient Boosted Trees. Число деревьев = 100"
   ]
  },
  {
   "cell_type": "code",
   "execution_count": 726,
   "metadata": {},
   "outputs": [
    {
     "data": {
      "text/plain": [
       "GradientBoostingClassifier(criterion='friedman_mse', init=None,\n",
       "              learning_rate=0.4, loss='deviance', max_depth=2,\n",
       "              max_features=None, max_leaf_nodes=None,\n",
       "              min_impurity_decrease=0.0, min_impurity_split=None,\n",
       "              min_samples_leaf=1, min_samples_split=2,\n",
       "              min_weight_fraction_leaf=0.0, n_estimators=100,\n",
       "              presort='auto', random_state=None, subsample=1.0, verbose=0,\n",
       "              warm_start=False)"
      ]
     },
     "execution_count": 726,
     "metadata": {},
     "output_type": "execute_result"
    }
   ],
   "source": [
    "from sklearn import ensemble\n",
    "gbt_model = ensemble.GradientBoostingClassifier(n_estimators = 100, max_depth = 2, learning_rate= 0.4)\n",
    "gbt_model.fit(X_train_reduc, y_train)"
   ]
  },
  {
   "cell_type": "markdown",
   "metadata": {},
   "source": [
    " Посчитаем и выведем ошибку на обучающей выборке"
   ]
  },
  {
   "cell_type": "code",
   "execution_count": 727,
   "metadata": {},
   "outputs": [
    {
     "name": "stdout",
     "output_type": "stream",
     "text": [
      "0.00552486187845\n"
     ]
    }
   ],
   "source": [
    "err_train = np.mean(y_train != gbt_model.predict(X_train_reduc))\n",
    "print(err_train)"
   ]
  },
  {
   "cell_type": "markdown",
   "metadata": {},
   "source": [
    "Посчитаем и выведем ошибку на тестовой выборке"
   ]
  },
  {
   "cell_type": "code",
   "execution_count": 728,
   "metadata": {},
   "outputs": [
    {
     "name": "stdout",
     "output_type": "stream",
     "text": [
      "0.115384615385\n"
     ]
    }
   ],
   "source": [
    "err_test  = np.mean(y_test  != gbt_model.predict(X_test_reduc))\n",
    "print(err_test)"
   ]
  },
  {
   "cell_type": "markdown",
   "metadata": {},
   "source": [
    "Наблюдаем переобучение, т.к ошибка на обучающей выборке составляет 0,5%, а на тестовой 11,5% !"
   ]
  },
  {
   "cell_type": "markdown",
   "metadata": {},
   "source": [
    " Построим график зависимости ошибок (ошибка на обучающей выборке + ошибка на тестовой выборке) от количества компонент в методе"
   ]
  },
  {
   "cell_type": "code",
   "execution_count": 729,
   "metadata": {},
   "outputs": [],
   "source": [
    "components_arr = np.arange(1, 30, 1)\n",
    "test_err = []\n",
    "train_err = []\n",
    "oob_err = []\n",
    "for components in components_arr:\n",
    "    pca = decomposition.PCA(n_components = components)\n",
    "    X_pca_train = pca.fit_transform(X_train)\n",
    "    X_pca_test = pca.transform(X_test)\n",
    "    gbt_model = ensemble.GradientBoostingClassifier(n_estimators = 100, max_depth = 2, learning_rate= 0.4)\n",
    "    gbt_model.fit(X_pca_train, y_train)\n",
    "    train_err.append(np.mean(y_train != gbt_model.predict(X_pca_train)))\n",
    "    test_err.append(np.mean(y_test  != gbt_model.predict(X_pca_test)))"
   ]
  },
  {
   "cell_type": "code",
   "execution_count": 730,
   "metadata": {},
   "outputs": [
    {
     "data": {
      "image/png": "[encoded data removed]",
      "text/plain": [
       "<matplotlib.figure.Figure at 0x19001f1a588>"
      ]
     },
     "metadata": {},
     "output_type": "display_data"
    }
   ],
   "source": [
    "plt.plot(components_arr, train_err, 'b-o', label = 'train')\n",
    "plt.plot(components_arr, test_err, 'r-o', label = 'test')\n",
    "plt.xlim([np.max(components_arr), np.min(components_arr)])\n",
    "plt.title('Error vs. Num of components')\n",
    "plt.xlabel('Num of components')\n",
    "plt.ylabel('Error')\n",
    "plt.legend()\n",
    "pass"
   ]
  },
  {
   "cell_type": "code",
   "execution_count": 731,
   "metadata": {},
   "outputs": [
    {
     "name": "stdout",
     "output_type": "stream",
     "text": [
      "[ 1  2  3  4  5  6  7  8  9 10 11 12 13 14 15 16 17 18 19 20 21 22 23 24 25\n",
      " 26 27 28 29]\n"
     ]
    }
   ],
   "source": [
    " print(components_arr)"
   ]
  },
  {
   "cell_type": "markdown",
   "metadata": {},
   "source": [
    "Из графика видно,что наименьшая ошибка достигается при числе компонет от 3-х до 5-ти. При числе же компонент,больше 5 ошибка не убывает (только местами растёт). Следовательно,лучше взять число компонент от 3-х до 5. Посмотрим,что скажут вычисления.\n",
    "На тестостовую выборку кол-во компонент не влияет"
   ]
  },
  {
   "cell_type": "markdown",
   "metadata": {},
   "source": [
    " Найдем минимальные значения ошибок"
   ]
  },
  {
   "cell_type": "code",
   "execution_count": 732,
   "metadata": {},
   "outputs": [
    {
     "name": "stdout",
     "output_type": "stream",
     "text": [
      "Min error train: 0.00552486187845\n",
      "Min error test: 0.0897435897436\n"
     ]
    }
   ],
   "source": [
    "min_train_err = np.min(train_err)\n",
    "min_test_err = np.min(test_err)\n",
    "\n",
    "print ('Min error train:', min_train_err)\n",
    "print ('Min error test:', min_test_err)"
   ]
  },
  {
   "cell_type": "markdown",
   "metadata": {},
   "source": [
    " Следовательно можно найти оптимальное количество компонент"
   ]
  },
  {
   "cell_type": "code",
   "execution_count": 733,
   "metadata": {},
   "outputs": [
    {
     "name": "stdout",
     "output_type": "stream",
     "text": [
      "3\n"
     ]
    }
   ],
   "source": [
    "components_opt = components_arr[test_err == min_test_err]\n",
    "components_opt = components_opt[0]\n",
    "print(components_opt)"
   ]
  },
  {
   "cell_type": "markdown",
   "metadata": {},
   "source": [
    "Действительно,как мы и предположили,оптимальное значение количества компонент - 3 (а было 39!), на нем достигается минимальное значение ошибки тестовой 8,97%, а обучающая равна всего 0,55%, что есть явное переобучение, но наилучший из возможных результатов."
   ]
  },
  {
   "cell_type": "markdown",
   "metadata": {},
   "source": [
    " "
   ]
  },
  {
   "cell_type": "markdown",
   "metadata": {},
   "source": [
    " "
   ]
  },
  {
   "cell_type": "markdown",
   "metadata": {},
   "source": [
    " "
   ]
  },
  {
   "cell_type": "markdown",
   "metadata": {},
   "source": [
    " "
   ]
  },
  {
   "cell_type": "markdown",
   "metadata": {},
   "source": [
    "  "
   ]
  },
  {
   "cell_type": "markdown",
   "metadata": {},
   "source": [
    "### Подведём итог и занесём всё в одну табличку"
   ]
  },
  {
   "cell_type": "markdown",
   "metadata": {},
   "source": [
    "|Название метода | |Минимальная ошибка на | Параметры метода|\n",
    "|------|------|\n",
    "|| обучающей выборке | тестовой выборке|\n",
    "|   kNN  | 0.0550 | 0.0769| При кол-ве соседей = 25|\n",
    "|   MLP  | 0.0000 | 0.0385 | При параметре регуляризации alpha ≈ 1.78|\n",
    "|   Random forest  | 0.0055 | 0.0769 | При кол-ве деревьев = 10|\n",
    "|   Extremely Random Forests  | 0.0055 | 0.1282 | При кол-ве деревьев = 30|\n",
    "|   Ada Boost Classifier | 0.0055 | 0.1026 | При кол-ве деревьев = 10|\n",
    "|   Gradient Boosting Trees | 0.0055 | 0.0897 | При кол-ве деревьев = 10|\n",
    "|   PCA | 0.0055 | 0.0897 | При кол-ве компонент = 3|\n"
   ]
  },
  {
   "cell_type": "markdown",
   "metadata": {},
   "source": [
    "# Итог :\n",
    "## Победителем выходит MLP cо значением параметра регуляризации alpha ≈ 1,78"
   ]
  }
 ],
 "metadata": {
  "kernelspec": {
   "display_name": "Python 3",
   "language": "python",
   "name": "python3"
  },
  "language_info": {
   "codemirror_mode": {
    "name": "ipython",
    "version": 3
   },
   "file_extension": ".py",
   "mimetype": "text/x-python",
   "name": "python",
   "nbconvert_exporter": "python",
   "pygments_lexer": "ipython3",
   "version": "3.6.3"
  }
 },
 "nbformat": 4,
 "nbformat_minor": 1
}
